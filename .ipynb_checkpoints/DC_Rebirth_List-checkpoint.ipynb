{
 "cells": [
  {
   "cell_type": "markdown",
   "metadata": {
    "colab_type": "text",
    "id": "view-in-github"
   },
   "source": [
    "<a href=\"https://colab.research.google.com/github/RicNavarro/personal-projects/blob/main/DC_Rebirth_List.ipynb\" target=\"_parent\"><img src=\"https://colab.research.google.com/assets/colab-badge.svg\" alt=\"Open In Colab\"/></a>"
   ]
  },
  {
   "cell_type": "code",
   "execution_count": 1,
   "metadata": {
    "id": "ulPibYESYKWY"
   },
   "outputs": [],
   "source": [
    "import numpy as np\n",
    "import pandas as pd\n",
    "import glob as gb\n",
    "import os\n",
    "import re"
   ]
  },
  {
   "cell_type": "code",
   "execution_count": 2,
   "metadata": {
    "id": "TKMgD5DvYw3F"
   },
   "outputs": [],
   "source": [
    "df_main = pd.read_csv(\"data/DC_Rebirth_Comic_Order.csv\")"
   ]
  },
  {
   "cell_type": "code",
   "execution_count": 3,
   "metadata": {
    "colab": {
     "base_uri": "https://localhost:8080/",
     "height": 206
    },
    "id": "3oebJg3YY-yH",
    "outputId": "8b0c9017-6600-472c-c1a6-a48212c0559b"
   },
   "outputs": [
    {
     "data": {
      "text/html": [
       "<div>\n",
       "<style scoped>\n",
       "    .dataframe tbody tr th:only-of-type {\n",
       "        vertical-align: middle;\n",
       "    }\n",
       "\n",
       "    .dataframe tbody tr th {\n",
       "        vertical-align: top;\n",
       "    }\n",
       "\n",
       "    .dataframe thead th {\n",
       "        text-align: right;\n",
       "    }\n",
       "</style>\n",
       "<table border=\"1\" class=\"dataframe\">\n",
       "  <thead>\n",
       "    <tr style=\"text-align: right;\">\n",
       "      <th></th>\n",
       "      <th>Comic Name</th>\n",
       "    </tr>\n",
       "  </thead>\n",
       "  <tbody>\n",
       "    <tr>\n",
       "      <th>0</th>\n",
       "      <td>DC Universe: Rebirth #1 (2016)</td>\n",
       "    </tr>\n",
       "    <tr>\n",
       "      <th>1</th>\n",
       "      <td>The Flash: Rebirth Vol. 2 #1 (2016)</td>\n",
       "    </tr>\n",
       "    <tr>\n",
       "      <th>2</th>\n",
       "      <td>Nightwing: Rebirth #1 (2016)</td>\n",
       "    </tr>\n",
       "    <tr>\n",
       "      <th>3</th>\n",
       "      <td>Titans: Rebirth #1 (2016)</td>\n",
       "    </tr>\n",
       "    <tr>\n",
       "      <th>4</th>\n",
       "      <td>Titans Vol. 3 #1 (2016)</td>\n",
       "    </tr>\n",
       "  </tbody>\n",
       "</table>\n",
       "</div>"
      ],
      "text/plain": [
       "                            Comic Name\n",
       "0       DC Universe: Rebirth #1 (2016)\n",
       "1  The Flash: Rebirth Vol. 2 #1 (2016)\n",
       "2         Nightwing: Rebirth #1 (2016)\n",
       "3            Titans: Rebirth #1 (2016)\n",
       "4              Titans Vol. 3 #1 (2016)"
      ]
     },
     "execution_count": 3,
     "metadata": {},
     "output_type": "execute_result"
    }
   ],
   "source": [
    "df_main.head()"
   ]
  },
  {
   "cell_type": "markdown",
   "metadata": {
    "id": "znU38hQebBTr"
   },
   "source": [
    "Formatação inicial do texto para retirar espaços, parênteses, numerações sobre a edição e demais informações que não são relevantes para o propósito de nossa análise"
   ]
  },
  {
   "cell_type": "code",
   "execution_count": 4,
   "metadata": {
    "id": "WFY7rg89ZABG"
   },
   "outputs": [],
   "source": [
    "def extract_and_clean_name(name):\n",
    "    if name.split(\" \")[0] == 'Read':\n",
    "        return 'EVENT'\n",
    "    else:\n",
    "        return (name.title().split(':')[0].split('Vol')[0].split('#')[0]).rstrip().split(\"Annual\")[-1].split(\"Special\")[-1].upper()\n",
    "\n",
    "df_main['Character'] = df_main['Comic Name'].apply(extract_and_clean_name)"
   ]
  },
  {
   "cell_type": "code",
   "execution_count": 5,
   "metadata": {
    "colab": {
     "base_uri": "https://localhost:8080/",
     "height": 424
    },
    "id": "gjN89ielaL3S",
    "outputId": "c590f79a-042c-40f5-f694-aee961a5cf68"
   },
   "outputs": [
    {
     "data": {
      "text/html": [
       "<div>\n",
       "<style scoped>\n",
       "    .dataframe tbody tr th:only-of-type {\n",
       "        vertical-align: middle;\n",
       "    }\n",
       "\n",
       "    .dataframe tbody tr th {\n",
       "        vertical-align: top;\n",
       "    }\n",
       "\n",
       "    .dataframe thead th {\n",
       "        text-align: right;\n",
       "    }\n",
       "</style>\n",
       "<table border=\"1\" class=\"dataframe\">\n",
       "  <thead>\n",
       "    <tr style=\"text-align: right;\">\n",
       "      <th></th>\n",
       "      <th>Comic Name</th>\n",
       "      <th>Character</th>\n",
       "    </tr>\n",
       "  </thead>\n",
       "  <tbody>\n",
       "    <tr>\n",
       "      <th>0</th>\n",
       "      <td>DC Universe: Rebirth #1 (2016)</td>\n",
       "      <td>DC UNIVERSE</td>\n",
       "    </tr>\n",
       "    <tr>\n",
       "      <th>1</th>\n",
       "      <td>The Flash: Rebirth Vol. 2 #1 (2016)</td>\n",
       "      <td>THE FLASH</td>\n",
       "    </tr>\n",
       "    <tr>\n",
       "      <th>2</th>\n",
       "      <td>Nightwing: Rebirth #1 (2016)</td>\n",
       "      <td>NIGHTWING</td>\n",
       "    </tr>\n",
       "    <tr>\n",
       "      <th>3</th>\n",
       "      <td>Titans: Rebirth #1 (2016)</td>\n",
       "      <td>TITANS</td>\n",
       "    </tr>\n",
       "    <tr>\n",
       "      <th>4</th>\n",
       "      <td>Titans Vol. 3 #1 (2016)</td>\n",
       "      <td>TITANS</td>\n",
       "    </tr>\n",
       "    <tr>\n",
       "      <th>...</th>\n",
       "      <td>...</td>\n",
       "      <td>...</td>\n",
       "    </tr>\n",
       "    <tr>\n",
       "      <th>2479</th>\n",
       "      <td>Read Dark Nights: Death Metal here.</td>\n",
       "      <td>EVENT</td>\n",
       "    </tr>\n",
       "    <tr>\n",
       "      <th>2480</th>\n",
       "      <td>Generations Shattered #1 (2021)</td>\n",
       "      <td>GENERATIONS SHATTERED</td>\n",
       "    </tr>\n",
       "    <tr>\n",
       "      <th>2481</th>\n",
       "      <td>Generations Forged #1 (2021)</td>\n",
       "      <td>GENERATIONS FORGED</td>\n",
       "    </tr>\n",
       "    <tr>\n",
       "      <th>2482</th>\n",
       "      <td>Read Endless Winter here.</td>\n",
       "      <td>EVENT</td>\n",
       "    </tr>\n",
       "    <tr>\n",
       "      <th>2483</th>\n",
       "      <td>Read Future State here.</td>\n",
       "      <td>EVENT</td>\n",
       "    </tr>\n",
       "  </tbody>\n",
       "</table>\n",
       "<p>2484 rows × 2 columns</p>\n",
       "</div>"
      ],
      "text/plain": [
       "                               Comic Name              Character\n",
       "0          DC Universe: Rebirth #1 (2016)            DC UNIVERSE\n",
       "1     The Flash: Rebirth Vol. 2 #1 (2016)              THE FLASH\n",
       "2            Nightwing: Rebirth #1 (2016)              NIGHTWING\n",
       "3               Titans: Rebirth #1 (2016)                 TITANS\n",
       "4                 Titans Vol. 3 #1 (2016)                 TITANS\n",
       "...                                   ...                    ...\n",
       "2479  Read Dark Nights: Death Metal here.                  EVENT\n",
       "2480      Generations Shattered #1 (2021)  GENERATIONS SHATTERED\n",
       "2481         Generations Forged #1 (2021)     GENERATIONS FORGED\n",
       "2482            Read Endless Winter here.                  EVENT\n",
       "2483              Read Future State here.                  EVENT\n",
       "\n",
       "[2484 rows x 2 columns]"
      ]
     },
     "execution_count": 5,
     "metadata": {},
     "output_type": "execute_result"
    }
   ],
   "source": [
    "df_main"
   ]
  },
  {
   "cell_type": "markdown",
   "metadata": {
    "id": "3m2rvGR8gK7s"
   },
   "source": [
    "**Eventização**\n",
    "\n",
    "O código abaixo deve ser retrabalhado para que todas as entradas onde há 'Character' igual a 'EVENT' sejam stripadas de 'Read ' e ' here.'"
   ]
  },
  {
   "cell_type": "code",
   "execution_count": 6,
   "metadata": {
    "colab": {
     "base_uri": "https://localhost:8080/"
    },
    "id": "cVH3sYhUaOKx",
    "outputId": "8019944b-2ce6-4039-d268-ea1757512b0c"
   },
   "outputs": [
    {
     "name": "stdout",
     "output_type": "stream",
     "text": [
      "0       False\n",
      "1       False\n",
      "2       False\n",
      "3       False\n",
      "4       False\n",
      "        ...  \n",
      "2479     True\n",
      "2480    False\n",
      "2481    False\n",
      "2482     True\n",
      "2483     True\n",
      "Name: Character, Length: 2484, dtype: bool\n"
     ]
    }
   ],
   "source": [
    "#print(\"Read Night of the Monster Men.\".strip('Read ').strip( here.))\n",
    "\n",
    "def clean_event(x):\n",
    "  return x.replace('Read ', '').replace(' here.', '')\n",
    "\n",
    "events_true = df_main['Character'] == \"EVENT\"\n",
    "print(events_true)\n",
    "\n",
    "df_main.loc[events_true, 'Comic Name'] = df_main.loc[events_true, 'Comic Name'].apply(clean_event)"
   ]
  },
  {
   "cell_type": "code",
   "execution_count": 7,
   "metadata": {
    "colab": {
     "base_uri": "https://localhost:8080/",
     "height": 458
    },
    "id": "LqKSUA6XJg8c",
    "outputId": "d2aef443-6d20-4d1e-e594-95ab800b51a1"
   },
   "outputs": [
    {
     "data": {
      "text/plain": [
       "0                           None\n",
       "1                           None\n",
       "2                           None\n",
       "3                           None\n",
       "4                           None\n",
       "                  ...           \n",
       "2479    Dark Nights: Death Metal\n",
       "2480                        None\n",
       "2481                        None\n",
       "2482              Endless Winter\n",
       "2483                Future State\n",
       "Name: Event, Length: 2484, dtype: object"
      ]
     },
     "execution_count": 7,
     "metadata": {},
     "output_type": "execute_result"
    }
   ],
   "source": [
    "df_main['Event'] = np.where(df_main['Character'] == \"EVENT\", df_main['Comic Name'], \"None\")\n",
    "df_main['Event']"
   ]
  },
  {
   "cell_type": "code",
   "execution_count": 8,
   "metadata": {
    "colab": {
     "base_uri": "https://localhost:8080/",
     "height": 424
    },
    "id": "14iJJMtxLUgo",
    "outputId": "291bfc0d-ce4b-494e-edc6-892325613fcb"
   },
   "outputs": [
    {
     "data": {
      "text/html": [
       "<div>\n",
       "<style scoped>\n",
       "    .dataframe tbody tr th:only-of-type {\n",
       "        vertical-align: middle;\n",
       "    }\n",
       "\n",
       "    .dataframe tbody tr th {\n",
       "        vertical-align: top;\n",
       "    }\n",
       "\n",
       "    .dataframe thead th {\n",
       "        text-align: right;\n",
       "    }\n",
       "</style>\n",
       "<table border=\"1\" class=\"dataframe\">\n",
       "  <thead>\n",
       "    <tr style=\"text-align: right;\">\n",
       "      <th></th>\n",
       "      <th>Comic Name</th>\n",
       "      <th>Character</th>\n",
       "      <th>Event</th>\n",
       "    </tr>\n",
       "  </thead>\n",
       "  <tbody>\n",
       "    <tr>\n",
       "      <th>0</th>\n",
       "      <td>DC Universe: Rebirth #1 (2016)</td>\n",
       "      <td>DC UNIVERSE</td>\n",
       "      <td>None</td>\n",
       "    </tr>\n",
       "    <tr>\n",
       "      <th>1</th>\n",
       "      <td>The Flash: Rebirth Vol. 2 #1 (2016)</td>\n",
       "      <td>THE FLASH</td>\n",
       "      <td>None</td>\n",
       "    </tr>\n",
       "    <tr>\n",
       "      <th>2</th>\n",
       "      <td>Nightwing: Rebirth #1 (2016)</td>\n",
       "      <td>NIGHTWING</td>\n",
       "      <td>None</td>\n",
       "    </tr>\n",
       "    <tr>\n",
       "      <th>3</th>\n",
       "      <td>Titans: Rebirth #1 (2016)</td>\n",
       "      <td>TITANS</td>\n",
       "      <td>None</td>\n",
       "    </tr>\n",
       "    <tr>\n",
       "      <th>4</th>\n",
       "      <td>Titans Vol. 3 #1 (2016)</td>\n",
       "      <td>TITANS</td>\n",
       "      <td>None</td>\n",
       "    </tr>\n",
       "    <tr>\n",
       "      <th>...</th>\n",
       "      <td>...</td>\n",
       "      <td>...</td>\n",
       "      <td>...</td>\n",
       "    </tr>\n",
       "    <tr>\n",
       "      <th>2479</th>\n",
       "      <td>Dark Nights: Death Metal</td>\n",
       "      <td>EVENT</td>\n",
       "      <td>Dark Nights: Death Metal</td>\n",
       "    </tr>\n",
       "    <tr>\n",
       "      <th>2480</th>\n",
       "      <td>Generations Shattered #1 (2021)</td>\n",
       "      <td>GENERATIONS SHATTERED</td>\n",
       "      <td>None</td>\n",
       "    </tr>\n",
       "    <tr>\n",
       "      <th>2481</th>\n",
       "      <td>Generations Forged #1 (2021)</td>\n",
       "      <td>GENERATIONS FORGED</td>\n",
       "      <td>None</td>\n",
       "    </tr>\n",
       "    <tr>\n",
       "      <th>2482</th>\n",
       "      <td>Endless Winter</td>\n",
       "      <td>EVENT</td>\n",
       "      <td>Endless Winter</td>\n",
       "    </tr>\n",
       "    <tr>\n",
       "      <th>2483</th>\n",
       "      <td>Future State</td>\n",
       "      <td>EVENT</td>\n",
       "      <td>Future State</td>\n",
       "    </tr>\n",
       "  </tbody>\n",
       "</table>\n",
       "<p>2484 rows × 3 columns</p>\n",
       "</div>"
      ],
      "text/plain": [
       "                               Comic Name              Character  \\\n",
       "0          DC Universe: Rebirth #1 (2016)            DC UNIVERSE   \n",
       "1     The Flash: Rebirth Vol. 2 #1 (2016)              THE FLASH   \n",
       "2            Nightwing: Rebirth #1 (2016)              NIGHTWING   \n",
       "3               Titans: Rebirth #1 (2016)                 TITANS   \n",
       "4                 Titans Vol. 3 #1 (2016)                 TITANS   \n",
       "...                                   ...                    ...   \n",
       "2479             Dark Nights: Death Metal                  EVENT   \n",
       "2480      Generations Shattered #1 (2021)  GENERATIONS SHATTERED   \n",
       "2481         Generations Forged #1 (2021)     GENERATIONS FORGED   \n",
       "2482                       Endless Winter                  EVENT   \n",
       "2483                         Future State                  EVENT   \n",
       "\n",
       "                         Event  \n",
       "0                         None  \n",
       "1                         None  \n",
       "2                         None  \n",
       "3                         None  \n",
       "4                         None  \n",
       "...                        ...  \n",
       "2479  Dark Nights: Death Metal  \n",
       "2480                      None  \n",
       "2481                      None  \n",
       "2482            Endless Winter  \n",
       "2483              Future State  \n",
       "\n",
       "[2484 rows x 3 columns]"
      ]
     },
     "execution_count": 8,
     "metadata": {},
     "output_type": "execute_result"
    }
   ],
   "source": [
    "df_main"
   ]
  },
  {
   "cell_type": "markdown",
   "metadata": {
    "id": "4mXcOPZKTqAv"
   },
   "source": [
    "Vamos ter de usar expressões regulares para poder modificar adequadamente as entradas na Série `events_list`, removendo espaços e pontuações para que nossa comparação com o nome dos arquivos seja adequada.\n",
    "\n",
    "Consta no código uma explicação sobre as expressões"
   ]
  },
  {
   "cell_type": "code",
   "execution_count": 9,
   "metadata": {
    "id": "FyJ4dOIPgO1V"
   },
   "outputs": [
    {
     "name": "stdout",
     "output_type": "stream",
     "text": [
      "105            Night_of_the_Monster_Men\n",
      "274     Justice_League_vs_Suicide_Squad\n",
      "381                     Superman_Reborn\n",
      "535                The_Lazarus_Contract\n",
      "920                   Dark_Nights_Metal\n",
      "1562                   Heroes_in_Crisis\n",
      "1579                      Drowned_Earth\n",
      "1913                    Event_Leviathan\n",
      "1972                       City_of_Bane\n",
      "2017                       The_Infected\n",
      "2372                          Joker_War\n",
      "2479            Dark_Nights_Death_Metal\n",
      "2482                     Endless_Winter\n",
      "2483                       Future_State\n",
      "Name: Event, dtype: object\n"
     ]
    }
   ],
   "source": [
    "events_list = df_main.loc[df_main['Event'] != 'None']['Event']\n",
    "\n",
    "def reformat_name_event(event):\n",
    "    # Substituir qualquer caractere n alfanum (exceto _) ou espaço por um underscore\n",
    "    #    Regex: [^\\w\\s] -> qualquer coisa que NÃO seja (caractere alfanumérico OU espaço)\n",
    "    #    | -> OU\n",
    "    #    \\s+ -> um ou mais espaços\n",
    "    event = re.sub(r'[^\\w\\s]|\\s+', '_', event)\n",
    "\n",
    "    # Remover underscores duplicados que possam surgir (ex: \"Night__of___the\")\n",
    "    event = re.sub(r'__+', '_', event)\n",
    "\n",
    "    # Remover underscores no início ou fim da string\n",
    "    event = event.strip('_')\n",
    "\n",
    "    return event\n",
    "\n",
    "\n",
    "events_list = events_list.apply(reformat_name_event)\n",
    "print (events_list)"
   ]
  },
  {
   "cell_type": "markdown",
   "metadata": {
    "id": "2J_S4jWLtFrb"
   },
   "source": [
    "Temos que ler os nomes dos arquivos em DC_Events e\n",
    "\n",
    "**(A)** Conforme fazemos a leitura armazenamos na lista `df_events`, que depois é reordenada segundo `events_dict` ou similares\n",
    "\n",
    "ou\n",
    "\n",
    "**(B)** Fazemos a leitura já checando os elementos de `events_dict`, ordenando conforme lemos e armazenando em `dfs_events` já na ordem"
   ]
  },
  {
   "cell_type": "code",
   "execution_count": 20,
   "metadata": {
    "colab": {
     "base_uri": "https://localhost:8080/",
     "height": 790
    },
    "id": "8FJTQ97za5kM",
    "outputId": "2f91f711-8f8d-416f-ce16-ca13c747a4c1"
   },
   "outputs": [
    {
     "name": "stdout",
     "output_type": "stream",
     "text": [
      "File names\n",
      "\n",
      "City_of_Bane.csv\n",
      "Dark_Nights_Death_Metal.csv\n",
      "Dark_Nights_Metal.csv\n",
      "Drowned_Earth.csv\n",
      "Endless_Winter.csv\n",
      "Event_Leviathan.csv\n",
      "Future_State.csv\n",
      "Heroes_in_Crisis.csv\n",
      "Joker_War.csv\n",
      "Justice_League_vs_Suicide_Squad.csv\n",
      "Night_of_the_Monster_Men.csv\n",
      "Superman_Reborn.csv\n",
      "The_Infected.csv\n",
      "The_Lazarus_Contract.csv\n",
      "\n",
      "Event Column names\n",
      "\n",
      "O evento Endless_Winter não tem arquivo de nome equivalente\n"
     ]
    },
    {
     "data": {
      "text/plain": [
       "'\\n##teste2 = pd.read_csv(\"data/DC_Events/Future_test.csv\", low_memory=False)\\n##teste2_stripped =  teste2[[col_to_keep]]\\n##teste2_stripped.head()\\n\\n\\n#print(os.path.basename(path_events))\\n#    print(os.path.basename(i).replace(\".csv\",\"\"))\\n\\n#for i in path_events:\\n#  print(i)\\n#  event_names.append(os.path.basename(i))\\n#  dfs_events.append(pd.read_csv(i))\\n#print(event_names)\\n'"
      ]
     },
     "execution_count": 20,
     "metadata": {},
     "output_type": "execute_result"
    }
   ],
   "source": [
    "col_to_keep = \"Comic Name\"\n",
    "\n",
    "events_path = \"data/DC_Events/\"\n",
    "fileformat = \"*.csv\"\n",
    "event_names = []\n",
    "dfs_events = []\n",
    "\n",
    "path_events = gb.glob(f\"{events_path}/{fileformat}\")\n",
    "\n",
    "#for i in events_list.values:\n",
    "#  print(i)\n",
    "print (\"File names\\n\")\n",
    "for i in path_events:\n",
    "  print(os.path.basename(i))\n",
    "\n",
    "print (\"\\nEvent Column names\\n\")\n",
    "if (len(path_events) == len(events_list.values)):\n",
    "  for i in range(len(path_events)):\n",
    "    #print(events_path + events_list.values[i] + fileformat_noast)\n",
    "    try:\n",
    "        event_address = events_path + events_list.values[i] + fileformat.strip(\"*\")\n",
    "        df_toshorten = pd.read_csv(event_address)\n",
    "        dfs_events.append(df_toshorten[[col_to_keep]])\n",
    "    except:\n",
    "      #print(event_address)\n",
    "      print(\"O evento \" + events_list.values[i] + \" não tem arquivo de nome equivalente\")\n",
    "\n",
    "\n",
    "\"\"\"\n",
    "##teste2 = pd.read_csv(\"data/DC_Events/Future_test.csv\", low_memory=False)\n",
    "##teste2_stripped =  teste2[[col_to_keep]]\n",
    "##teste2_stripped.head()\n",
    "\n",
    "\n",
    "#print(os.path.basename(path_events))\n",
    "#    print(os.path.basename(i).replace(\".csv\",\"\"))\n",
    "\n",
    "#for i in path_events:\n",
    "#  print(i)\n",
    "#  event_names.append(os.path.basename(i))\n",
    "#  dfs_events.append(pd.read_csv(i))\n",
    "#print(event_names)\n",
    "\"\"\""
   ]
  },
  {
   "cell_type": "code",
   "execution_count": 15,
   "metadata": {},
   "outputs": [
    {
     "data": {
      "text/plain": [
       "array(['DC UNIVERSE', 'THE FLASH', 'NIGHTWING', 'TITANS', 'SUPERMAN',\n",
       "       'ACTION COMICS', 'SUPERWOMAN', 'BATMAN', 'GREEN ARROW',\n",
       "       'SUICIDE SQUAD', 'HAL JORDAN & THE GREEN LANTERN CORPS',\n",
       "       'GREEN LANTERNS', 'HARLEY QUINN', 'AQUAMAN', 'BATGIRL',\n",
       "       'BATGIRL AND THE BIRDS OF PREY', 'DETECTIVE COMICS', 'EVENT',\n",
       "       'TEEN TITANS', 'JUSTICE LEAGUE', 'TRINITY', 'CATWOMAN', 'CYBORG',\n",
       "       'GOTHAM ACADEMY', 'WONDER WOMAN',\n",
       "       'WONDER WOMAN TELLS TWO DIFFERENT STORIES IN ALTERNATING ISSUES.',\n",
       "       '', 'NEW SUPER-MAN', 'DEATHSTROKE', 'RAVEN', 'ALL-STAR BATMAN',\n",
       "       'RED HOOD AND THE OUTLAWS', 'JUSTICE LEAGUE OF AMERICA',\n",
       "       'SUPER SONS', 'THE HELLBLAZER', 'SIXPACK AND DOGWELDER', 'DEADMAN',\n",
       "       'SUPERGIRL', 'MOTHER PANIC', 'BATWOMAN', 'BATMAN BEYOND',\n",
       "       'BLUE BEETLE', 'CAVE CARSON HAS A CYBERNETIC EYE',\n",
       "       'DEATH OF HAWKMAN', 'MIDNIGHTER AND APOLLO',\n",
       "       'SHADE THE CHANGING GIRL', 'BANE', 'DOOM PATROL',\n",
       "       'THE ODYSSEY OF THE AMAZONS', 'THE FALL AND RISE OF CAPTAIN ATOM',\n",
       "       'BUG! THE ADVENTURES OF FORAGER', 'MISTER MIRACLE', 'RAGMAN',\n",
       "       'DAMAGE', 'THE SILENCER', 'BLACK LIGHTNING',\n",
       "       'BATMAN AND THE SIGNAL', 'THE DEMON', 'THE TERRIFICS',\n",
       "       'NEW SUPER-MAN AND THE JUSTICE LEAGUE OF CHINA', 'DC NATION',\n",
       "       'THE CURSE OF BRIMSTONE', 'THE MAN OF STEEL',\n",
       "       'ADVENTURES OF THE SUPER SONS', 'CHALLENGE OF THE SUPERSONS',\n",
       "       'THE BRAVE AND THE BOLD', 'SIDEWAYS', 'MERA',\n",
       "       'SHADE, THE CHANGING WOMAN', 'PLASTIC MAN', 'ETERNITY GIRL',\n",
       "       'CAVE CARSON HAS AN INTERSTELLAR EYE', 'THE IMMORTAL MEN',\n",
       "       'NEW CHALLENGERS', 'HAWKMAN', 'MAN-BAT', 'JUSTICE LEAGUE DARK',\n",
       "       'WONDER WOMAN AND DARK JUSTICE LEAGUE',\n",
       "       'DARK JUSTICE LEAGUE AND WONDER WOMAN', 'THE UNEXPECTED',\n",
       "       'AFTER RED HOOD AND THE OUTLAWS', 'RED HOOD', 'THE GREEN LANTERN',\n",
       "       'JUSTICE LEAGUE ODYSSEY', 'ELECTRIC WARRIORS', 'NAOMI',\n",
       "       'YOUNG JUSTICE', 'FEMALE FURIES', 'YEAR OF THE VILLAIN',\n",
       "       'THE BATMAN WHO LAUGHS', 'WONDER TWINS', 'DIAL H FOR HERO',\n",
       "       'BATMAN AND THE OUTSIDERS', 'SINESTRO', 'BLACK MASK',\n",
       "       'THE RIDDLER', 'LEX LUTHOR', 'LEGION OF SUPER-HEROES', 'LOIS LANE',\n",
       "       'NEW YEARÂ€™S EVIL', 'HARLEY QUINNÂ€™S VILLAIN OF THE YEAR',\n",
       "       'THE JOKER', 'OCEAN MASTER', 'DOOMSDAY CLOCK', 'SHAZAM!',\n",
       "       'COLLAPSER', 'FREEDOM FIGHTERS', 'GREEN LANTERN',\n",
       "       'MARTIAN MANHUNTER', 'BATMAN/SUPERMAN', 'INFERIOR FIVE',\n",
       "       'GOTHAM CITY MONSTERS', 'HARLEY QUINN & POISON IVY',\n",
       "       'THE GREEN LANTERN SEASON TWO', 'TALES FROM THE DARK MULTIVERSE',\n",
       "       'FLASH FORWARD', 'LEVIATHAN DAWN', 'BATMAN VS. RAÂ€™S AL GHUL',\n",
       "       'ROBIN 80TH ANNIVERSARY 100-PAGE SUPER SPECTACULAR', 'AMETHYST',\n",
       "       'SUPERMANÂ€™S PAL, JIMMY OLSEN',\n",
       "       'GREEN LANTERN 80TH ANNIVERSARY 100-PAGE SUPER SPECTACULAR',\n",
       "       'METAL MEN',\n",
       "       'CATWOMAN 80TH ANNIVERSARY 100-PAGE SUPER SPECTACULAR',\n",
       "       'HARLEY QUINN AND THE BIRDS OF PREY',\n",
       "       'THE JOKER 80TH ANNIVERSARY 100-PAGE SUPER SPECTACULAR',\n",
       "       'AFTER RED HOOD', 'PUNCHLINE', 'SENSATIONAL WONDER WOMAN',\n",
       "       'FAR SECTOR', 'GENERATIONS SHATTERED', 'GENERATIONS FORGED'],\n",
       "      dtype=object)"
      ]
     },
     "execution_count": 15,
     "metadata": {},
     "output_type": "execute_result"
    }
   ],
   "source": [
    "df_main['Character'].unique()"
   ]
  },
  {
   "cell_type": "markdown",
   "metadata": {},
   "source": [
    "### The Complications of Comic Book Names\n",
    "\n",
    "We have to deal with cases where an entry has multiple \"Protagonists,\" creating an extra column to identify a possible \"collab\" title where the secondary character is identified. Criteria being \"/  AND & VS.\" etc"
   ]
  },
  {
   "cell_type": "code",
   "execution_count": null,
   "metadata": {},
   "outputs": [],
   "source": []
  }
 ],
 "metadata": {
  "colab": {
   "authorship_tag": "ABX9TyMGcpVpNIOZ2iTaaGGPg0do",
   "include_colab_link": true,
   "provenance": []
  },
  "kernelspec": {
   "display_name": "Python 3 (ipykernel)",
   "language": "python",
   "name": "python3"
  },
  "language_info": {
   "codemirror_mode": {
    "name": "ipython",
    "version": 3
   },
   "file_extension": ".py",
   "mimetype": "text/x-python",
   "name": "python",
   "nbconvert_exporter": "python",
   "pygments_lexer": "ipython3",
   "version": "3.11.7"
  }
 },
 "nbformat": 4,
 "nbformat_minor": 4
}
