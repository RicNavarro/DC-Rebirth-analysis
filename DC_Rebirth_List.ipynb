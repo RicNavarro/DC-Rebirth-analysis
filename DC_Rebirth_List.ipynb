{
 "cells": [
  {
   "cell_type": "markdown",
   "metadata": {
    "colab_type": "text",
    "id": "view-in-github"
   },
   "source": [
    "<a href=\"https://colab.research.google.com/github/RicNavarro/personal-projects/blob/main/DC_Rebirth_List.ipynb\" target=\"_parent\"><img src=\"https://colab.research.google.com/assets/colab-badge.svg\" alt=\"Open In Colab\"/></a>"
   ]
  },
  {
   "cell_type": "code",
   "execution_count": 46,
   "metadata": {
    "id": "ulPibYESYKWY"
   },
   "outputs": [],
   "source": [
    "import numpy as np\n",
    "import pandas as pd\n",
    "import glob as gb\n",
    "import os\n",
    "import re"
   ]
  },
  {
   "cell_type": "markdown",
   "metadata": {},
   "source": [
    "Some additional cleaning was done in Excel\n",
    "1) Instances of \",\" within certain entries were removed\n",
    "2) Some text was properly re-encoded (entries with single quotes, for example, were faulty)\n",
    "3) A few entries contained not the names of the issues, but descriptions of how to read certain events. Those were removed"
   ]
  },
  {
   "cell_type": "code",
   "execution_count": 47,
   "metadata": {
    "id": "TKMgD5DvYw3F"
   },
   "outputs": [],
   "source": [
    "df_main = pd.read_csv(\"data/DC_Rebirth_Comic_Order.csv\")"
   ]
  },
  {
   "cell_type": "code",
   "execution_count": 48,
   "metadata": {
    "colab": {
     "base_uri": "https://localhost:8080/",
     "height": 206
    },
    "id": "3oebJg3YY-yH",
    "outputId": "8b0c9017-6600-472c-c1a6-a48212c0559b"
   },
   "outputs": [
    {
     "data": {
      "text/html": [
       "<div>\n",
       "<style scoped>\n",
       "    .dataframe tbody tr th:only-of-type {\n",
       "        vertical-align: middle;\n",
       "    }\n",
       "\n",
       "    .dataframe tbody tr th {\n",
       "        vertical-align: top;\n",
       "    }\n",
       "\n",
       "    .dataframe thead th {\n",
       "        text-align: right;\n",
       "    }\n",
       "</style>\n",
       "<table border=\"1\" class=\"dataframe\">\n",
       "  <thead>\n",
       "    <tr style=\"text-align: right;\">\n",
       "      <th></th>\n",
       "      <th>Comic Name</th>\n",
       "    </tr>\n",
       "  </thead>\n",
       "  <tbody>\n",
       "    <tr>\n",
       "      <th>0</th>\n",
       "      <td>DC Universe: Rebirth #1 (2016)</td>\n",
       "    </tr>\n",
       "    <tr>\n",
       "      <th>1</th>\n",
       "      <td>The Flash: Rebirth Vol. 2 #1 (2016)</td>\n",
       "    </tr>\n",
       "    <tr>\n",
       "      <th>2</th>\n",
       "      <td>Nightwing: Rebirth #1 (2016)</td>\n",
       "    </tr>\n",
       "    <tr>\n",
       "      <th>3</th>\n",
       "      <td>Titans: Rebirth #1 (2016)</td>\n",
       "    </tr>\n",
       "    <tr>\n",
       "      <th>4</th>\n",
       "      <td>Titans Vol. 3 #1 (2016)</td>\n",
       "    </tr>\n",
       "  </tbody>\n",
       "</table>\n",
       "</div>"
      ],
      "text/plain": [
       "                            Comic Name\n",
       "0       DC Universe: Rebirth #1 (2016)\n",
       "1  The Flash: Rebirth Vol. 2 #1 (2016)\n",
       "2         Nightwing: Rebirth #1 (2016)\n",
       "3            Titans: Rebirth #1 (2016)\n",
       "4              Titans Vol. 3 #1 (2016)"
      ]
     },
     "execution_count": 48,
     "metadata": {},
     "output_type": "execute_result"
    }
   ],
   "source": [
    "df_main.head()"
   ]
  },
  {
   "cell_type": "markdown",
   "metadata": {
    "id": "znU38hQebBTr"
   },
   "source": [
    "We proceed to do some initial formatting in order to extract the character names, whilst removing spacing, parenthesis, issue nnumbering and some other info that won't be relevant for the \"Character\" field. Also, we distinguish the entrie that indicate an event"
   ]
  },
  {
   "cell_type": "code",
   "execution_count": 49,
   "metadata": {
    "id": "WFY7rg89ZABG"
   },
   "outputs": [],
   "source": [
    "def extract_and_clean_name(name):\n",
    "    if name.split(\" \")[0] == 'Read':\n",
    "        return 'EVENT'\n",
    "    else:\n",
    "        return (name.title().split(':')[0].split('Vol')[0].split('#')[0]).rstrip().split(\"Annual\")[-1].split(\"Special\")[-1].upper()\n",
    "\n",
    "df_main['Character'] = df_main['Comic Name'].apply(extract_and_clean_name)"
   ]
  },
  {
   "cell_type": "code",
   "execution_count": 50,
   "metadata": {
    "colab": {
     "base_uri": "https://localhost:8080/",
     "height": 424
    },
    "id": "gjN89ielaL3S",
    "outputId": "c590f79a-042c-40f5-f694-aee961a5cf68"
   },
   "outputs": [
    {
     "data": {
      "text/html": [
       "<div>\n",
       "<style scoped>\n",
       "    .dataframe tbody tr th:only-of-type {\n",
       "        vertical-align: middle;\n",
       "    }\n",
       "\n",
       "    .dataframe tbody tr th {\n",
       "        vertical-align: top;\n",
       "    }\n",
       "\n",
       "    .dataframe thead th {\n",
       "        text-align: right;\n",
       "    }\n",
       "</style>\n",
       "<table border=\"1\" class=\"dataframe\">\n",
       "  <thead>\n",
       "    <tr style=\"text-align: right;\">\n",
       "      <th></th>\n",
       "      <th>Comic Name</th>\n",
       "      <th>Character</th>\n",
       "    </tr>\n",
       "  </thead>\n",
       "  <tbody>\n",
       "    <tr>\n",
       "      <th>0</th>\n",
       "      <td>DC Universe: Rebirth #1 (2016)</td>\n",
       "      <td>DC UNIVERSE</td>\n",
       "    </tr>\n",
       "    <tr>\n",
       "      <th>1</th>\n",
       "      <td>The Flash: Rebirth Vol. 2 #1 (2016)</td>\n",
       "      <td>THE FLASH</td>\n",
       "    </tr>\n",
       "    <tr>\n",
       "      <th>2</th>\n",
       "      <td>Nightwing: Rebirth #1 (2016)</td>\n",
       "      <td>NIGHTWING</td>\n",
       "    </tr>\n",
       "    <tr>\n",
       "      <th>3</th>\n",
       "      <td>Titans: Rebirth #1 (2016)</td>\n",
       "      <td>TITANS</td>\n",
       "    </tr>\n",
       "    <tr>\n",
       "      <th>4</th>\n",
       "      <td>Titans Vol. 3 #1 (2016)</td>\n",
       "      <td>TITANS</td>\n",
       "    </tr>\n",
       "    <tr>\n",
       "      <th>...</th>\n",
       "      <td>...</td>\n",
       "      <td>...</td>\n",
       "    </tr>\n",
       "    <tr>\n",
       "      <th>2476</th>\n",
       "      <td>Read Dark Nights: Death Metal here.</td>\n",
       "      <td>EVENT</td>\n",
       "    </tr>\n",
       "    <tr>\n",
       "      <th>2477</th>\n",
       "      <td>Generations Shattered #1 (2021)</td>\n",
       "      <td>GENERATIONS SHATTERED</td>\n",
       "    </tr>\n",
       "    <tr>\n",
       "      <th>2478</th>\n",
       "      <td>Generations Forged #1 (2021)</td>\n",
       "      <td>GENERATIONS FORGED</td>\n",
       "    </tr>\n",
       "    <tr>\n",
       "      <th>2479</th>\n",
       "      <td>Read Endless Winter here.</td>\n",
       "      <td>EVENT</td>\n",
       "    </tr>\n",
       "    <tr>\n",
       "      <th>2480</th>\n",
       "      <td>Read Future State here.</td>\n",
       "      <td>EVENT</td>\n",
       "    </tr>\n",
       "  </tbody>\n",
       "</table>\n",
       "<p>2481 rows × 2 columns</p>\n",
       "</div>"
      ],
      "text/plain": [
       "                               Comic Name              Character\n",
       "0          DC Universe: Rebirth #1 (2016)            DC UNIVERSE\n",
       "1     The Flash: Rebirth Vol. 2 #1 (2016)              THE FLASH\n",
       "2            Nightwing: Rebirth #1 (2016)              NIGHTWING\n",
       "3               Titans: Rebirth #1 (2016)                 TITANS\n",
       "4                 Titans Vol. 3 #1 (2016)                 TITANS\n",
       "...                                   ...                    ...\n",
       "2476  Read Dark Nights: Death Metal here.                  EVENT\n",
       "2477      Generations Shattered #1 (2021)  GENERATIONS SHATTERED\n",
       "2478         Generations Forged #1 (2021)     GENERATIONS FORGED\n",
       "2479            Read Endless Winter here.                  EVENT\n",
       "2480              Read Future State here.                  EVENT\n",
       "\n",
       "[2481 rows x 2 columns]"
      ]
     },
     "execution_count": 50,
     "metadata": {},
     "output_type": "execute_result"
    }
   ],
   "source": [
    "df_main"
   ]
  },
  {
   "cell_type": "markdown",
   "metadata": {},
   "source": [
    "## Before stripping the "
   ]
  },
  {
   "cell_type": "markdown",
   "metadata": {
    "id": "3m2rvGR8gK7s"
   },
   "source": [
    "**Eventização**\n",
    "\n",
    "O código abaixo deve ser retrabalhado para que todas as entradas onde há 'Character' igual a 'EVENT' sejam stripadas de 'Read ' e ' here.'"
   ]
  },
  {
   "cell_type": "code",
   "execution_count": 62,
   "metadata": {
    "colab": {
     "base_uri": "https://localhost:8080/"
    },
    "id": "cVH3sYhUaOKx",
    "outputId": "8019944b-2ce6-4039-d268-ea1757512b0c"
   },
   "outputs": [
    {
     "name": "stdout",
     "output_type": "stream",
     "text": [
      "0       False\n",
      "1       False\n",
      "2       False\n",
      "3       False\n",
      "4       False\n",
      "        ...  \n",
      "2476     True\n",
      "2477    False\n",
      "2478    False\n",
      "2479     True\n",
      "2480     True\n",
      "Name: Character, Length: 2481, dtype: bool\n"
     ]
    }
   ],
   "source": [
    "def clean_event(x):\n",
    "  return x.replace('Read ', '').replace(' here.', '')\n",
    "\n",
    "events_true = df_main['Character'] == \"EVENT\"\n",
    "print(events_true)\n",
    "\n",
    "df_main['event_names_clean'] = df_main.loc[events_true, 'Comic Name'].apply(clean_event)"
   ]
  },
  {
   "cell_type": "code",
   "execution_count": 66,
   "metadata": {
    "colab": {
     "base_uri": "https://localhost:8080/",
     "height": 458
    },
    "id": "LqKSUA6XJg8c",
    "outputId": "d2aef443-6d20-4d1e-e594-95ab800b51a1"
   },
   "outputs": [
    {
     "data": {
      "text/plain": [
       "0                           None\n",
       "1                           None\n",
       "2                           None\n",
       "3                           None\n",
       "4                           None\n",
       "                  ...           \n",
       "2476    Dark Nights: Death Metal\n",
       "2477                        None\n",
       "2478                        None\n",
       "2479              Endless Winter\n",
       "2480                Future State\n",
       "Name: Event, Length: 2481, dtype: object"
      ]
     },
     "execution_count": 66,
     "metadata": {},
     "output_type": "execute_result"
    }
   ],
   "source": [
    "df_main['Event'] = np.where(df_main['Character'] == \"EVENT\", df_main['event_names_clean'], \"None\")\n",
    "df_main = df_main.drop(\"event_names_clean\", axis=\"columns\")\n",
    "df_main['Event']"
   ]
  },
  {
   "cell_type": "code",
   "execution_count": 67,
   "metadata": {
    "colab": {
     "base_uri": "https://localhost:8080/",
     "height": 424
    },
    "id": "14iJJMtxLUgo",
    "outputId": "291bfc0d-ce4b-494e-edc6-892325613fcb"
   },
   "outputs": [
    {
     "data": {
      "text/html": [
       "<div>\n",
       "<style scoped>\n",
       "    .dataframe tbody tr th:only-of-type {\n",
       "        vertical-align: middle;\n",
       "    }\n",
       "\n",
       "    .dataframe tbody tr th {\n",
       "        vertical-align: top;\n",
       "    }\n",
       "\n",
       "    .dataframe thead th {\n",
       "        text-align: right;\n",
       "    }\n",
       "</style>\n",
       "<table border=\"1\" class=\"dataframe\">\n",
       "  <thead>\n",
       "    <tr style=\"text-align: right;\">\n",
       "      <th></th>\n",
       "      <th>Comic Name</th>\n",
       "      <th>Character</th>\n",
       "      <th>Event</th>\n",
       "    </tr>\n",
       "  </thead>\n",
       "  <tbody>\n",
       "    <tr>\n",
       "      <th>0</th>\n",
       "      <td>DC Universe: Rebirth #1 (2016)</td>\n",
       "      <td>DC UNIVERSE</td>\n",
       "      <td>None</td>\n",
       "    </tr>\n",
       "    <tr>\n",
       "      <th>1</th>\n",
       "      <td>The Flash: Rebirth Vol. 2 #1 (2016)</td>\n",
       "      <td>THE FLASH</td>\n",
       "      <td>None</td>\n",
       "    </tr>\n",
       "    <tr>\n",
       "      <th>2</th>\n",
       "      <td>Nightwing: Rebirth #1 (2016)</td>\n",
       "      <td>NIGHTWING</td>\n",
       "      <td>None</td>\n",
       "    </tr>\n",
       "    <tr>\n",
       "      <th>3</th>\n",
       "      <td>Titans: Rebirth #1 (2016)</td>\n",
       "      <td>TITANS</td>\n",
       "      <td>None</td>\n",
       "    </tr>\n",
       "    <tr>\n",
       "      <th>4</th>\n",
       "      <td>Titans Vol. 3 #1 (2016)</td>\n",
       "      <td>TITANS</td>\n",
       "      <td>None</td>\n",
       "    </tr>\n",
       "    <tr>\n",
       "      <th>...</th>\n",
       "      <td>...</td>\n",
       "      <td>...</td>\n",
       "      <td>...</td>\n",
       "    </tr>\n",
       "    <tr>\n",
       "      <th>2476</th>\n",
       "      <td>Read Dark Nights: Death Metal here.</td>\n",
       "      <td>EVENT</td>\n",
       "      <td>Dark Nights: Death Metal</td>\n",
       "    </tr>\n",
       "    <tr>\n",
       "      <th>2477</th>\n",
       "      <td>Generations Shattered #1 (2021)</td>\n",
       "      <td>GENERATIONS SHATTERED</td>\n",
       "      <td>None</td>\n",
       "    </tr>\n",
       "    <tr>\n",
       "      <th>2478</th>\n",
       "      <td>Generations Forged #1 (2021)</td>\n",
       "      <td>GENERATIONS FORGED</td>\n",
       "      <td>None</td>\n",
       "    </tr>\n",
       "    <tr>\n",
       "      <th>2479</th>\n",
       "      <td>Read Endless Winter here.</td>\n",
       "      <td>EVENT</td>\n",
       "      <td>Endless Winter</td>\n",
       "    </tr>\n",
       "    <tr>\n",
       "      <th>2480</th>\n",
       "      <td>Read Future State here.</td>\n",
       "      <td>EVENT</td>\n",
       "      <td>Future State</td>\n",
       "    </tr>\n",
       "  </tbody>\n",
       "</table>\n",
       "<p>2481 rows × 3 columns</p>\n",
       "</div>"
      ],
      "text/plain": [
       "                               Comic Name              Character  \\\n",
       "0          DC Universe: Rebirth #1 (2016)            DC UNIVERSE   \n",
       "1     The Flash: Rebirth Vol. 2 #1 (2016)              THE FLASH   \n",
       "2            Nightwing: Rebirth #1 (2016)              NIGHTWING   \n",
       "3               Titans: Rebirth #1 (2016)                 TITANS   \n",
       "4                 Titans Vol. 3 #1 (2016)                 TITANS   \n",
       "...                                   ...                    ...   \n",
       "2476  Read Dark Nights: Death Metal here.                  EVENT   \n",
       "2477      Generations Shattered #1 (2021)  GENERATIONS SHATTERED   \n",
       "2478         Generations Forged #1 (2021)     GENERATIONS FORGED   \n",
       "2479            Read Endless Winter here.                  EVENT   \n",
       "2480              Read Future State here.                  EVENT   \n",
       "\n",
       "                         Event  \n",
       "0                         None  \n",
       "1                         None  \n",
       "2                         None  \n",
       "3                         None  \n",
       "4                         None  \n",
       "...                        ...  \n",
       "2476  Dark Nights: Death Metal  \n",
       "2477                      None  \n",
       "2478                      None  \n",
       "2479            Endless Winter  \n",
       "2480              Future State  \n",
       "\n",
       "[2481 rows x 3 columns]"
      ]
     },
     "execution_count": 67,
     "metadata": {},
     "output_type": "execute_result"
    }
   ],
   "source": [
    "df_main"
   ]
  },
  {
   "cell_type": "markdown",
   "metadata": {
    "id": "4mXcOPZKTqAv"
   },
   "source": [
    "Vamos ter de usar expressões regulares para poder modificar adequadamente as entradas na Série `events_list`, removendo espaços e pontuações para que nossa comparação com o nome dos arquivos seja adequada.\n",
    "\n",
    "Consta no código uma explicação sobre as expressões"
   ]
  },
  {
   "cell_type": "code",
   "execution_count": 80,
   "metadata": {
    "id": "FyJ4dOIPgO1V"
   },
   "outputs": [
    {
     "name": "stdout",
     "output_type": "stream",
     "text": [
      "105             Night of the Monster Men\n",
      "273     Justice League vs. Suicide Squad\n",
      "380                      Superman Reborn\n",
      "534                 The Lazarus Contract\n",
      "919                   Dark Nights: Metal\n",
      "1560                    Heroes in Crisis\n",
      "1577                       Drowned Earth\n",
      "1911                     Event Leviathan\n",
      "1970                        City of Bane\n",
      "2015                        The Infected\n",
      "2370                           Joker War\n",
      "2476            Dark Nights: Death Metal\n",
      "2479                      Endless Winter\n",
      "2480                        Future State\n",
      "Name: Event, dtype: object\n",
      "105            Night_of_the_Monster_Men\n",
      "273     Justice_League_vs_Suicide_Squad\n",
      "380                     Superman_Reborn\n",
      "534                The_Lazarus_Contract\n",
      "919                   Dark_Nights_Metal\n",
      "1560                   Heroes_in_Crisis\n",
      "1577                      Drowned_Earth\n",
      "1911                    Event_Leviathan\n",
      "1970                       City_of_Bane\n",
      "2015                       The_Infected\n",
      "2370                          Joker_War\n",
      "2476            Dark_Nights_Death_Metal\n",
      "2479                     Endless_Winter\n",
      "2480                       Future_State\n",
      "Name: Event, dtype: object\n"
     ]
    }
   ],
   "source": [
    "events_list_entry_names = events_list = df_main.loc[df_main['Event'] != 'None']['Event']\n",
    "print (events_list_entry_names)\n",
    "\n",
    "def reformat_name_event(event):\n",
    "    # Substituir qualquer caractere n alfanum (exceto _) ou espaço por um underscore\n",
    "    #    Regex: [^\\w\\s] -> qualquer coisa que NÃO seja (caractere alfanumérico OU espaço)\n",
    "    #    | -> OU\n",
    "    #    \\s+ -> um ou mais espaços\n",
    "    event = re.sub(r'[^\\w\\s]|\\s+', '_', event)\n",
    "\n",
    "    # Remover underscores duplicados que possam surgir (ex: \"Night__of___the\")\n",
    "    event = re.sub(r'__+', '_', event)\n",
    "\n",
    "    # Remover underscores no início ou fim da string\n",
    "    event = event.strip('_')\n",
    "\n",
    "    return event\n",
    "\n",
    "\n",
    "events_list_file_names = events_list.apply(reformat_name_event)\n",
    "print (events_list_file_names)"
   ]
  },
  {
   "cell_type": "markdown",
   "metadata": {
    "id": "2J_S4jWLtFrb"
   },
   "source": [
    "Temos que ler os nomes dos arquivos em DC_Events e\n",
    "\n",
    "**(A)** Conforme fazemos a leitura armazenamos na lista `df_events`, que depois é reordenada segundo `events_dict` ou similares\n",
    "\n",
    "ou\n",
    "\n",
    "**(B)** Fazemos a leitura já checando os elementos de `events_dict`, ordenando conforme lemos e armazenando em `dfs_events` já na ordem"
   ]
  },
  {
   "cell_type": "code",
   "execution_count": 85,
   "metadata": {
    "colab": {
     "base_uri": "https://localhost:8080/",
     "height": 790
    },
    "id": "8FJTQ97za5kM",
    "outputId": "2f91f711-8f8d-416f-ce16-ca13c747a4c1"
   },
   "outputs": [
    {
     "data": {
      "text/plain": [
       "[              Comic Name\n",
       " 0       Batman Vol. 3 #7\n",
       " 1    Nightwing Vol. 4 #5\n",
       " 2  Detective Comics #941\n",
       " 3       Batman Vol. 3 #8\n",
       " 4    Nightwing Vol. 4 #6\n",
       " 5  Detective Comics #942,\n",
       "                                     Comic Name\n",
       " 0                      Suicide Squad Vol. 5 #8\n",
       " 1                    Justice League Vol. 3 #12\n",
       " 2   Justice League vs. Suicide Squad #1 (2016)\n",
       " 3          Justice League vs. Suicide Squad #2\n",
       " 4          Justice League vs. Suicide Squad #3\n",
       " 5          Justice League vs. Suicide Squad #4\n",
       " 6                      Suicide Squad Vol. 5 #9\n",
       " 7          Justice League vs. Suicide Squad #5\n",
       " 8                    Justice League Vol. 3 #13\n",
       " 9          Justice League vs. Suicide Squad #6\n",
       " 10                    Suicide Squad Vol. 5 #10,\n",
       "             Comic Name\n",
       " 0  Superman Vol. 4 #18\n",
       " 1   Action Comics #975\n",
       " 2        Superwoman #8\n",
       " 3  Superman Vol. 4 #19\n",
       " 4   Action Comics #976\n",
       " 5  Supergirl Vol. 7 #8\n",
       " 6        Superwoman #9\n",
       " 7    Trinity Vol. 2 #8\n",
       " 8   Action Comics #977\n",
       " 9   Action Comics #978,\n",
       "                                           Comic Name\n",
       " 0                                  Titans Vol. 3 #11\n",
       " 1                              Teen Titans Vol. 6 #8\n",
       " 2                             Deathstroke Vol. 4 #19\n",
       " 3  Teen Titans: The Lazarus Contract Special #1 (...\n",
       " 4                             Deathstroke Vol. 4 #20,\n",
       "                                       Comic Name\n",
       " 0                 Dark Days: The Forge #1 (2017)\n",
       " 1               Dark Days: The Casting #1 (2017)\n",
       " 2                   Dark Nights: Metal #1 (2017)\n",
       " 3                          Dark Nights: Metal #2\n",
       " 4                Batman: The Red Death #1 (2017)\n",
       " 5           Batman: The Murder Machine #1 (2017)\n",
       " 6              Batman: The Dawnbreaker #1 (2017)\n",
       " 7                  Batman: The Drowned #1 (2017)\n",
       " 8                         Teen Titans Vol. 6 #12\n",
       " 9                           Nightwing Vol. 4 #29\n",
       " 10                      Suicide Squad Vol. 5 #26\n",
       " 11                        Green Arrow Vol. 6 #32\n",
       " 12               Batman: The Merciless #1 (2017)\n",
       " 13                         Dark Nights: Metal #3\n",
       " 14                          The Flash Vol. 5 #33\n",
       " 15              Batman: The Devastator #1 (2018)\n",
       " 16                     Justice League Vol. 3 #32\n",
       " 17    Hal Jordan and the Green Lantern Corps #32\n",
       " 18                     Justice League Vol. 3 #33\n",
       " 19                         Batman Lost #1 (2018)\n",
       " 20                         Dark Nights: Metal #4\n",
       " 21                       Hawkman Found #1 (2018)\n",
       " 22                         Dark Nights: Metal #5\n",
       " 23  Dark Knights Rising: The Wild Hunt #1 (2018)\n",
       " 24               The Batman Who Laughs #1 (2018)\n",
       " 25                         Dark Nights: Metal #6,\n",
       "                     Comic Name\n",
       " 0   Heroes in Crisis #1 (2018)\n",
       " 1       Green Arrow Vol. 6 #45\n",
       " 2          Heroes in Crisis #2\n",
       " 3          Heroes in Crisis #3\n",
       " 4          Heroes in Crisis #4\n",
       " 5   The Flash Vol. 5 Annual #2\n",
       " 6            Batman Vol. 3 #64\n",
       " 7         The Flash Vol. 5 #64\n",
       " 8            Batman Vol. 3 #65\n",
       " 9         The Flash Vol. 5 #65\n",
       " 10         Heroes in Crisis #5\n",
       " 11         Heroes in Crisis #6\n",
       " 12         Heroes in Crisis #7\n",
       " 13         Heroes in Crisis #8\n",
       " 14         Heroes in Crisis #9,\n",
       "                                         Comic Name\n",
       " 0                        Justice League Vol. 4 #10\n",
       " 1                               Aquaman Vol. 8 #41\n",
       " 2                                Titans Vol. 3 #28\n",
       " 3  Justice League/Aquaman: Drowned Earth #1 (2018)\n",
       " 4                        Justice League Vol. 4 #11\n",
       " 5                               Aquaman Vol. 8 #42\n",
       " 6                        Justice League Vol. 4 #12\n",
       " 7  Aquaman/Justice League: Drowned Earth #1 (2018),\n",
       "                        Comic Name\n",
       " 0       Event Leviathan #1 (2019)\n",
       " 1              Event Leviathan #2\n",
       " 2             Action Comics #1013\n",
       " 3              Event Leviathan #3\n",
       " 4             Action Comics #1014\n",
       " 5              Event Leviathan #4\n",
       " 6            Supergirl Vol. 7 #34\n",
       " 7            Supergirl Vol. 7 #35\n",
       " 8              Event Leviathan #5\n",
       " 9   Wonder Woman Vol. 5 Annual #3\n",
       " 10             Event Leviathan #6,\n",
       "                              Comic Name\n",
       " 0                     Batman Vol. 3 #75\n",
       " 1               Batman: Secret Files #2\n",
       " 2                     Batman Vol. 3 #76\n",
       " 3                     Batman Vol. 3 #77\n",
       " 4                     Batman Vol. 3 #78\n",
       " 5                     Batman Vol. 3 #79\n",
       " 6                     Batman Vol. 3 #80\n",
       " 7                     Batman Vol. 3 #81\n",
       " 8               Batman Vol. 3 Annual #4\n",
       " 9                     Batman Vol. 3 #82\n",
       " 10                    Batman Vol. 3 #83\n",
       " 11                    Batman Vol. 3 #84\n",
       " 12                    Batman Vol. 3 #85\n",
       " 13           Detective Comics Annual #3\n",
       " 14  Batman: Pennyworth R.I.P. #1 (2020),\n",
       "                                    Comic Name\n",
       " 0            Batman/Superman Vol. 2 #1 (2019)\n",
       " 1                   Batman/Superman Vol. 2 #2\n",
       " 2         The Infected: King Shazam #1 (2020)\n",
       " 3   Black Adam: Year of the Villain #1 (2019)\n",
       " 4                   Batman/Superman Vol. 2 #3\n",
       " 5              The Infected: Scarab #1 (2020)\n",
       " 6                          Hawkman Vol. 5 #18\n",
       " 7                   Batman/Superman Vol. 2 #4\n",
       " 8                        Supergirl Vol. 7 #36\n",
       " 9        The Infected: Deathbringer #1 (2020)\n",
       " 10                         Hawkman Vol. 5 #19\n",
       " 11                       Supergirl Vol. 7 #37\n",
       " 12                 Supergirl Vol. 7 Annual #2\n",
       " 13                  Batman/Superman Vol. 2 #5\n",
       " 14   The Infected: The Commissioner #1 (2020)\n",
       " 15                       Supergirl Vol. 7 #38\n",
       " 16                         Hawkman Vol. 5 #20\n",
       " 17                  Batman/Superman Vol. 2 #6\n",
       " 18                       Supergirl Vol. 7 #39\n",
       " 19                       Supergirl Vol. 7 #40\n",
       " 20                         Hawkman Vol. 5 #21\n",
       " 21                         Hawkman Vol. 5 #22\n",
       " 22                         Hawkman Vol. 5 #23,\n",
       "                               Comic Name\n",
       " 0                 Detective Comics #1022\n",
       " 1                 Detective Comics #1023\n",
       " 2                 Detective Comics #1024\n",
       " 3                     Batgirl Vol. 5 #47\n",
       " 4                     Batgirl Vol. 5 #48\n",
       " 5                     Batgirl Vol. 5 #49\n",
       " 6                   Nightwing Vol. 4 #70\n",
       " 7                   Nightwing Vol. 4 #71\n",
       " 8                   Nightwing Vol. 4 #72\n",
       " 9                      Batman Vol. 3 #95\n",
       " 10               Harley Quinn Vol. 3 #75\n",
       " 11                  Red Hood: Outlaw #48\n",
       " 12                  Nightwing Vol. 4 #73\n",
       " 13                     Batman Vol. 3 #96\n",
       " 14                     Batman Vol. 3 #97\n",
       " 15                     Batman Vol. 3 #98\n",
       " 16                Detective Comics #1025\n",
       " 17                Detective Comics #1026\n",
       " 18                  Nightwing Vol. 4 #74\n",
       " 19  Batman: The Joker War Zone #1 (2020)\n",
       " 20                     Batman Vol. 3 #99\n",
       " 21                   Catwoman Vol. 5 #25\n",
       " 22                    Batman Vol. 3 #100\n",
       " 23                   Catwoman Vol. 5 #26\n",
       " 24                    Batgirl Vol. 5 #50\n",
       " 25                  Nightwing Vol. 4 #75,\n",
       "                                            Comic Name\n",
       " 0                  Dark Nights: Death Metal #1 (2020)\n",
       " 1                         Dark Nights: Death Metal #2\n",
       " 2                         Dark Nights: Death Metal #3\n",
       " 3   Dark Nights: Death Metal: Legends of the Dark ...\n",
       " 4       Dark Nights: Death Metal: Guidebook #1 (2020)\n",
       " 5   Dark Nights: Death Metal: Trinity Crisis #1 (2...\n",
       " 6     Dark Nights: Death Metal: Speed Metal #1 (2020)\n",
       " 7   Dark Nights: Death Metal: Multiverse’s End #1 ...\n",
       " 8                         Dark Nights: Death Metal #4\n",
       " 9   Dark Nights: Death Metal: Infinite Hour Exxxtr...\n",
       " 10  Dark Nights: Death Metal: Rise of the New God ...\n",
       " 11     Dark Nights: Death Metal: Robin King #1 (2020)\n",
       " 12                          Justice League Vol. 4 #53\n",
       " 13                          Justice League Vol. 4 #54\n",
       " 14                          Justice League Vol. 4 #55\n",
       " 15                          Justice League Vol. 4 #56\n",
       " 16                          Justice League Vol. 4 #57\n",
       " 17                        Dark Nights: Death Metal #5\n",
       " 18  Dark Nights: Death Metal: The Multiverse Who L...\n",
       " 19  Dark Nights: Death Metal: The Secret Origin #1...\n",
       " 20  Dark Nights: Death Metal: The Last Stories of ...\n",
       " 21                        Dark Nights: Death Metal #6\n",
       " 22  Dark Nights: Death Metal: The Last 52: War of ...\n",
       " 23                        Dark Nights: Death Metal #7,\n",
       "                                       Comic Name\n",
       " 0       Justice League: Endless Winter #1 (2021)\n",
       " 1                                 The Flash #767\n",
       " 2     Superman: Endless Winter Special #1 (2021)\n",
       " 3                             Aquaman Vol. 8 #66\n",
       " 4                      Justice League Vol. 4 #58\n",
       " 5  Teen Titans: Endless Winter Special #1 (2021)\n",
       " 6                 Justice League Dark Vol. 2 #29\n",
       " 7   Black Adam: Endless Winter Special #1 (2021)\n",
       " 8              Justice League: Endless Winter #2,\n",
       "                                            Comic Name\n",
       " 0             Future State: Batman/Superman #1 (2021)\n",
       " 1                    Future State: Batman/Superman #2\n",
       " 2             Future State: The Next Batman #1 (2021)\n",
       " 3                    Future State: The Next Batman #2\n",
       " 4                    Future State: The Next Batman #3\n",
       " 5                    Future State: The Next Batman #4\n",
       " 6               Future State: Robin Eternal #1 (2021)\n",
       " 7                      Future State: Robin Eternal #2\n",
       " 8                Future State: Harley Quinn #1 (2021)\n",
       " 9                       Future State: Harley Quinn #2\n",
       " 10                  Future State: Nightwing #1 (2021)\n",
       " 11                         Future State: Nightwing #2\n",
       " 12                   Future State: Catwoman #1 (2021)\n",
       " 13                          Future State: Catwoman #2\n",
       " 14             Future State: Dark Detective #1 (2021)\n",
       " 15                    Future State: Dark Detective #2\n",
       " 16                    Future State: Dark Detective #3\n",
       " 17                    Future State: Dark Detective #4\n",
       " 18                  Future State: The Flash #1 (2021)\n",
       " 19                         Future State: The Flash #2\n",
       " 20                Future State: Teen Titans #1 (2021)\n",
       " 21                       Future State: Teen Titans #2\n",
       " 22                    Future State: Shazam! #1 (2021)\n",
       " 23                           Future State: Shazam! #2\n",
       " 24              Future State: Suicide Squad #1 (2021)\n",
       " 25                     Future State: Suicide Squad #2\n",
       " 26                    Future State: Aquaman #1 (2021)\n",
       " 27                           Future State: Aquaman #2\n",
       " 28     Future State: Superman of Metropolis #1 (2021)\n",
       " 29            Future State: Superman of Metropolis #2\n",
       " 30    Future State: Superman: Worlds at War #1 (2021)\n",
       " 31           Future State: Superman: Worlds at War #2\n",
       " 32              Future State: Green Lantern #1 (2021)\n",
       " 33                     Future State: Green Lantern #2\n",
       " 34             Future State: Justice League #1 (2021)\n",
       " 35                    Future State: Justice League #2\n",
       " 36                          Future State: Kara Zor-el\n",
       " 37                          Future State: Kara Zor-el\n",
       " 38               Future State: Wonder Woman #1 (2021)\n",
       " 39                      Future State: Wonder Woman #2\n",
       " 40  Future State: Superman vs. Imperious Lex #1 (2...\n",
       " 41        Future State: Superman vs. Imperious Lex #2\n",
       " 42        Future State: Superman vs. Imperious Lex #3\n",
       " 43      Future State: Superman/Wonder Woman #1 (2021)\n",
       " 44             Future State: Superman/Wonder Woman #2\n",
       " 45     Future State: Legion of Super-Heroes #1 (2021)\n",
       " 46            Future State: Legion of Super-Heroes #2\n",
       " 47      Future State: Superman: House of El #1 (2021)\n",
       " 48                Future State: Swamp Thing #1 (2021)\n",
       " 49                       Future State: Swamp Thing #2\n",
       " 50      Future State: Immortal Wonder Woman #1 (2021)\n",
       " 51             Future State: Immortal Wonder Woman #2]"
      ]
     },
     "execution_count": 85,
     "metadata": {},
     "output_type": "execute_result"
    }
   ],
   "source": [
    "col_to_keep = \"Comic Name\"\n",
    "\n",
    "events_path = \"data/DC_Events/\"\n",
    "fileformat = \"*.csv\"\n",
    "event_names = []\n",
    "dfs_events = []\n",
    "\n",
    "path_events = gb.glob(f\"{events_path}/{fileformat}\")\n",
    "\n",
    "#for i in events_list.values:\n",
    "#  print(i)\n",
    "#print (\"File names\\n\")\n",
    "#for i in path_events:\n",
    "#  print(os.path.basename(i))\n",
    "\n",
    "#print (\"\\nEvent Column names\\n\")\n",
    "if (len(path_events) == len(events_list_file_names.values)):\n",
    "  for i in range(len(path_events)):\n",
    "    #print(events_path + events_list.values[i] + fileformat.strip(\"*\"))\n",
    "    try:\n",
    "        # remeber: the events are added according to the order they were read from in the original Comic_Order file\n",
    "        event_address = events_path + events_list_file_names.values[i] + fileformat.strip(\"*\")\n",
    "        df_toshorten = pd.read_csv(event_address)\n",
    "        dfs_events.append(df_toshorten[[col_to_keep]])\n",
    "    except:\n",
    "      print(\"The \" + events_list_file_names.values[i] + \" event has no corresponding file\")\n",
    "\n",
    "dfs_events"
   ]
  },
  {
   "cell_type": "markdown",
   "metadata": {},
   "source": [
    "### Getting dataframes from each additional file and adding a column with the proper event name"
   ]
  },
  {
   "cell_type": "code",
   "execution_count": 104,
   "metadata": {},
   "outputs": [
    {
     "data": {
      "text/html": [
       "<div>\n",
       "<style scoped>\n",
       "    .dataframe tbody tr th:only-of-type {\n",
       "        vertical-align: middle;\n",
       "    }\n",
       "\n",
       "    .dataframe tbody tr th {\n",
       "        vertical-align: top;\n",
       "    }\n",
       "\n",
       "    .dataframe thead th {\n",
       "        text-align: right;\n",
       "    }\n",
       "</style>\n",
       "<table border=\"1\" class=\"dataframe\">\n",
       "  <thead>\n",
       "    <tr style=\"text-align: right;\">\n",
       "      <th></th>\n",
       "      <th>Comic Name</th>\n",
       "      <th>Event</th>\n",
       "    </tr>\n",
       "  </thead>\n",
       "  <tbody>\n",
       "    <tr>\n",
       "      <th>0</th>\n",
       "      <td>Suicide Squad Vol. 5 #8</td>\n",
       "      <td>Justice League vs. Suicide Squad</td>\n",
       "    </tr>\n",
       "    <tr>\n",
       "      <th>1</th>\n",
       "      <td>Justice League Vol. 3 #12</td>\n",
       "      <td>Justice League vs. Suicide Squad</td>\n",
       "    </tr>\n",
       "    <tr>\n",
       "      <th>2</th>\n",
       "      <td>Justice League vs. Suicide Squad #1 (2016)</td>\n",
       "      <td>Justice League vs. Suicide Squad</td>\n",
       "    </tr>\n",
       "    <tr>\n",
       "      <th>3</th>\n",
       "      <td>Justice League vs. Suicide Squad #2</td>\n",
       "      <td>Justice League vs. Suicide Squad</td>\n",
       "    </tr>\n",
       "    <tr>\n",
       "      <th>4</th>\n",
       "      <td>Justice League vs. Suicide Squad #3</td>\n",
       "      <td>Justice League vs. Suicide Squad</td>\n",
       "    </tr>\n",
       "  </tbody>\n",
       "</table>\n",
       "</div>"
      ],
      "text/plain": [
       "                                   Comic Name  \\\n",
       "0                     Suicide Squad Vol. 5 #8   \n",
       "1                   Justice League Vol. 3 #12   \n",
       "2  Justice League vs. Suicide Squad #1 (2016)   \n",
       "3         Justice League vs. Suicide Squad #2   \n",
       "4         Justice League vs. Suicide Squad #3   \n",
       "\n",
       "                              Event  \n",
       "0  Justice League vs. Suicide Squad  \n",
       "1  Justice League vs. Suicide Squad  \n",
       "2  Justice League vs. Suicide Squad  \n",
       "3  Justice League vs. Suicide Squad  \n",
       "4  Justice League vs. Suicide Squad  "
      ]
     },
     "execution_count": 104,
     "metadata": {},
     "output_type": "execute_result"
    }
   ],
   "source": [
    "for i in range(len(events_list_entry_names)):\n",
    "    dfs_events[i][\"Event\"] = events_list_entry_names.iloc[i]\n",
    "\n",
    "#Checking one of the dfs for the appropriate column\n",
    "dfs_events[1].head()"
   ]
  },
  {
   "cell_type": "markdown",
   "metadata": {},
   "source": [
    "Next step is to do the dataframe merging"
   ]
  },
  {
   "cell_type": "markdown",
   "metadata": {},
   "source": [
    "-----\n",
    "## Removal of character name redundancies (WIP)"
   ]
  },
  {
   "cell_type": "code",
   "execution_count": 25,
   "metadata": {},
   "outputs": [
    {
     "name": "stdout",
     "output_type": "stream",
     "text": [
      "THE JOKER\n",
      "THE JOKER 80TH ANNIVERSARY 100-PAGE SUPER SPECTACULAR\n"
     ]
    },
    {
     "data": {
      "text/html": [
       "<div>\n",
       "<style scoped>\n",
       "    .dataframe tbody tr th:only-of-type {\n",
       "        vertical-align: middle;\n",
       "    }\n",
       "\n",
       "    .dataframe tbody tr th {\n",
       "        vertical-align: top;\n",
       "    }\n",
       "\n",
       "    .dataframe thead th {\n",
       "        text-align: right;\n",
       "    }\n",
       "</style>\n",
       "<table border=\"1\" class=\"dataframe\">\n",
       "  <thead>\n",
       "    <tr style=\"text-align: right;\">\n",
       "      <th></th>\n",
       "      <th>Comic Name</th>\n",
       "      <th>Character</th>\n",
       "      <th>Event</th>\n",
       "    </tr>\n",
       "  </thead>\n",
       "  <tbody>\n",
       "    <tr>\n",
       "      <th>1943</th>\n",
       "      <td>The Joker: Year of the Villain #1 (2019)</td>\n",
       "      <td>THE JOKER</td>\n",
       "      <td>None</td>\n",
       "    </tr>\n",
       "  </tbody>\n",
       "</table>\n",
       "</div>"
      ],
      "text/plain": [
       "                                    Comic Name  Character Event\n",
       "1943  The Joker: Year of the Villain #1 (2019)  THE JOKER  None"
      ]
     },
     "execution_count": 25,
     "metadata": {},
     "output_type": "execute_result"
    }
   ],
   "source": [
    "all_heroes = df_main['Character']\n",
    "for i in all_heroes:\n",
    "    if \"JOKER\" in i:\n",
    "        print (i)\n",
    "\n",
    "# Joker special\n",
    "\n",
    "#for i in all_heroes:\n",
    "#    if \"JOKER\" in i:\n",
    "\n",
    "df_main.loc[df_main['Character'] == \"THE JOKER\"]"
   ]
  },
  {
   "cell_type": "markdown",
   "metadata": {},
   "source": [
    "-----\n",
    "\n",
    "### The Complications of Comic Book Names\n",
    "\n",
    "We have to deal with cases where an entry has multiple \"Protagonists,\" creating an extra column to identify a possible \"collab\" title where the secondary character is identified. Criteria being \"/  AND & VS.\" etc"
   ]
  },
  {
   "cell_type": "code",
   "execution_count": null,
   "metadata": {},
   "outputs": [],
   "source": []
  }
 ],
 "metadata": {
  "colab": {
   "authorship_tag": "ABX9TyMGcpVpNIOZ2iTaaGGPg0do",
   "include_colab_link": true,
   "provenance": []
  },
  "kernelspec": {
   "display_name": "Python [conda env:base] *",
   "language": "python",
   "name": "conda-base-py"
  },
  "language_info": {
   "codemirror_mode": {
    "name": "ipython",
    "version": 3
   },
   "file_extension": ".py",
   "mimetype": "text/x-python",
   "name": "python",
   "nbconvert_exporter": "python",
   "pygments_lexer": "ipython3",
   "version": "3.11.7"
  }
 },
 "nbformat": 4,
 "nbformat_minor": 4
}
