{
 "cells": [
  {
   "cell_type": "markdown",
   "metadata": {
    "colab_type": "text",
    "id": "view-in-github"
   },
   "source": [
    "<a href=\"https://colab.research.google.com/github/RicNavarro/personal-projects/blob/main/DC_Rebirth_List.ipynb\" target=\"_parent\"><img src=\"https://colab.research.google.com/assets/colab-badge.svg\" alt=\"Open In Colab\"/></a>"
   ]
  },
  {
   "cell_type": "code",
   "execution_count": 297,
   "metadata": {
    "id": "ulPibYESYKWY"
   },
   "outputs": [],
   "source": [
    "import numpy as np\n",
    "import pandas as pd\n",
    "import glob as gb\n",
    "import os\n",
    "import re"
   ]
  },
  {
   "cell_type": "markdown",
   "metadata": {},
   "source": [
    "Some additional cleaning was done in Excel\n",
    "1) Instances of \",\" within certain entries were removed\n",
    "2) Some text was properly re-encoded (entries with single quotes, for example, were faulty)\n",
    "3) A few entries contained not the names of the issues, but descriptions of how to read certain events. Those were removed"
   ]
  },
  {
   "cell_type": "code",
   "execution_count": 298,
   "metadata": {
    "id": "TKMgD5DvYw3F"
   },
   "outputs": [],
   "source": [
    "df_main = pd.read_csv(\"data/DC_Rebirth_Comic_Order.csv\")"
   ]
  },
  {
   "cell_type": "code",
   "execution_count": 299,
   "metadata": {
    "colab": {
     "base_uri": "https://localhost:8080/",
     "height": 206
    },
    "id": "3oebJg3YY-yH",
    "outputId": "8b0c9017-6600-472c-c1a6-a48212c0559b"
   },
   "outputs": [
    {
     "data": {
      "text/html": [
       "<div>\n",
       "<style scoped>\n",
       "    .dataframe tbody tr th:only-of-type {\n",
       "        vertical-align: middle;\n",
       "    }\n",
       "\n",
       "    .dataframe tbody tr th {\n",
       "        vertical-align: top;\n",
       "    }\n",
       "\n",
       "    .dataframe thead th {\n",
       "        text-align: right;\n",
       "    }\n",
       "</style>\n",
       "<table border=\"1\" class=\"dataframe\">\n",
       "  <thead>\n",
       "    <tr style=\"text-align: right;\">\n",
       "      <th></th>\n",
       "      <th>Comic Name</th>\n",
       "    </tr>\n",
       "  </thead>\n",
       "  <tbody>\n",
       "    <tr>\n",
       "      <th>0</th>\n",
       "      <td>DC Universe: Rebirth #1 (2016)</td>\n",
       "    </tr>\n",
       "    <tr>\n",
       "      <th>1</th>\n",
       "      <td>The Flash: Rebirth Vol. 2 #1 (2016)</td>\n",
       "    </tr>\n",
       "    <tr>\n",
       "      <th>2</th>\n",
       "      <td>Nightwing: Rebirth #1 (2016)</td>\n",
       "    </tr>\n",
       "    <tr>\n",
       "      <th>3</th>\n",
       "      <td>Titans: Rebirth #1 (2016)</td>\n",
       "    </tr>\n",
       "    <tr>\n",
       "      <th>4</th>\n",
       "      <td>Titans Vol. 3 #1 (2016)</td>\n",
       "    </tr>\n",
       "  </tbody>\n",
       "</table>\n",
       "</div>"
      ],
      "text/plain": [
       "                            Comic Name\n",
       "0       DC Universe: Rebirth #1 (2016)\n",
       "1  The Flash: Rebirth Vol. 2 #1 (2016)\n",
       "2         Nightwing: Rebirth #1 (2016)\n",
       "3            Titans: Rebirth #1 (2016)\n",
       "4              Titans Vol. 3 #1 (2016)"
      ]
     },
     "execution_count": 299,
     "metadata": {},
     "output_type": "execute_result"
    }
   ],
   "source": [
    "df_main.head()"
   ]
  },
  {
   "cell_type": "markdown",
   "metadata": {
    "id": "znU38hQebBTr"
   },
   "source": [
    "We proceed to do some initial formatting in order to extract the character names, whilst removing spacing, parenthesis, issue nnumbering and some other info that won't be relevant for the \"Character\" field. Also, we distinguish the entrie that indicate an event"
   ]
  },
  {
   "cell_type": "code",
   "execution_count": 357,
   "metadata": {
    "id": "WFY7rg89ZABG"
   },
   "outputs": [],
   "source": [
    "def clean_name(name):\n",
    "    if name.split(\" \")[0] == 'Read':\n",
    "        return 'EVENT'\n",
    "    else:\n",
    "        name = name.title()\n",
    "        if \":\" in name:\n",
    "            name = name.split(':')\n",
    "        \n",
    "        # Some Comic Names have the character name after the colon when they're part of an event\n",
    "            split_to_keep = 0\n",
    "            \n",
    "            if name [0] == \"\" or \"BATMAN\" in name[1].upper():    \n",
    "            # The \"BATMAN\" exception is added specifically because of a single edge case where the title is\n",
    "            # not part of an event, but the character's name is after the colon\n",
    "                split_to_keep = 1\n",
    "            name = name[split_to_keep]\n",
    "\n",
    "        return (name.split('Vol')[0].split('#')[0]).split(\"Annual\")[0].split(\"Special\")[0].rstrip().lstrip().upper()\n",
    "\n",
    "df_main['Character'] = df_main['Comic Name'].apply(clean_name)"
   ]
  },
  {
   "cell_type": "code",
   "execution_count": 358,
   "metadata": {
    "colab": {
     "base_uri": "https://localhost:8080/",
     "height": 424
    },
    "id": "gjN89ielaL3S",
    "outputId": "c590f79a-042c-40f5-f694-aee961a5cf68"
   },
   "outputs": [
    {
     "data": {
      "text/html": [
       "<div>\n",
       "<style scoped>\n",
       "    .dataframe tbody tr th:only-of-type {\n",
       "        vertical-align: middle;\n",
       "    }\n",
       "\n",
       "    .dataframe tbody tr th {\n",
       "        vertical-align: top;\n",
       "    }\n",
       "\n",
       "    .dataframe thead th {\n",
       "        text-align: right;\n",
       "    }\n",
       "</style>\n",
       "<table border=\"1\" class=\"dataframe\">\n",
       "  <thead>\n",
       "    <tr style=\"text-align: right;\">\n",
       "      <th></th>\n",
       "      <th>Comic Name</th>\n",
       "      <th>Character</th>\n",
       "      <th>Event</th>\n",
       "    </tr>\n",
       "  </thead>\n",
       "  <tbody>\n",
       "    <tr>\n",
       "      <th>0</th>\n",
       "      <td>DC Universe: Rebirth #1 (2016)</td>\n",
       "      <td>DC UNIVERSE</td>\n",
       "      <td>None</td>\n",
       "    </tr>\n",
       "    <tr>\n",
       "      <th>1</th>\n",
       "      <td>The Flash: Rebirth Vol. 2 #1 (2016)</td>\n",
       "      <td>THE FLASH</td>\n",
       "      <td>None</td>\n",
       "    </tr>\n",
       "    <tr>\n",
       "      <th>2</th>\n",
       "      <td>Nightwing: Rebirth #1 (2016)</td>\n",
       "      <td>NIGHTWING</td>\n",
       "      <td>None</td>\n",
       "    </tr>\n",
       "    <tr>\n",
       "      <th>3</th>\n",
       "      <td>Titans: Rebirth #1 (2016)</td>\n",
       "      <td>TITANS</td>\n",
       "      <td>None</td>\n",
       "    </tr>\n",
       "    <tr>\n",
       "      <th>4</th>\n",
       "      <td>Titans Vol. 3 #1 (2016)</td>\n",
       "      <td>TITANS</td>\n",
       "      <td>None</td>\n",
       "    </tr>\n",
       "    <tr>\n",
       "      <th>...</th>\n",
       "      <td>...</td>\n",
       "      <td>...</td>\n",
       "      <td>...</td>\n",
       "    </tr>\n",
       "    <tr>\n",
       "      <th>2703</th>\n",
       "      <td>Future State: Superman: House of El #1 (2021)</td>\n",
       "      <td>FUTURE STATE</td>\n",
       "      <td>None</td>\n",
       "    </tr>\n",
       "    <tr>\n",
       "      <th>2704</th>\n",
       "      <td>Future State: Swamp Thing #1 (2021)</td>\n",
       "      <td>FUTURE STATE</td>\n",
       "      <td>None</td>\n",
       "    </tr>\n",
       "    <tr>\n",
       "      <th>2705</th>\n",
       "      <td>Future State: Swamp Thing #2</td>\n",
       "      <td>FUTURE STATE</td>\n",
       "      <td>None</td>\n",
       "    </tr>\n",
       "    <tr>\n",
       "      <th>2706</th>\n",
       "      <td>Future State: Immortal Wonder Woman #1 (2021)</td>\n",
       "      <td>FUTURE STATE</td>\n",
       "      <td>None</td>\n",
       "    </tr>\n",
       "    <tr>\n",
       "      <th>2707</th>\n",
       "      <td>Future State: Immortal Wonder Woman #2</td>\n",
       "      <td>FUTURE STATE</td>\n",
       "      <td>None</td>\n",
       "    </tr>\n",
       "  </tbody>\n",
       "</table>\n",
       "<p>2708 rows × 3 columns</p>\n",
       "</div>"
      ],
      "text/plain": [
       "                                         Comic Name     Character Event\n",
       "0                    DC Universe: Rebirth #1 (2016)   DC UNIVERSE  None\n",
       "1               The Flash: Rebirth Vol. 2 #1 (2016)     THE FLASH  None\n",
       "2                      Nightwing: Rebirth #1 (2016)     NIGHTWING  None\n",
       "3                         Titans: Rebirth #1 (2016)        TITANS  None\n",
       "4                           Titans Vol. 3 #1 (2016)        TITANS  None\n",
       "...                                             ...           ...   ...\n",
       "2703  Future State: Superman: House of El #1 (2021)  FUTURE STATE  None\n",
       "2704            Future State: Swamp Thing #1 (2021)  FUTURE STATE  None\n",
       "2705                   Future State: Swamp Thing #2  FUTURE STATE  None\n",
       "2706  Future State: Immortal Wonder Woman #1 (2021)  FUTURE STATE  None\n",
       "2707         Future State: Immortal Wonder Woman #2  FUTURE STATE  None\n",
       "\n",
       "[2708 rows x 3 columns]"
      ]
     },
     "execution_count": 358,
     "metadata": {},
     "output_type": "execute_result"
    }
   ],
   "source": [
    "df_main"
   ]
  },
  {
   "cell_type": "markdown",
   "metadata": {},
   "source": [
    "## Before stripping the "
   ]
  },
  {
   "cell_type": "markdown",
   "metadata": {
    "id": "3m2rvGR8gK7s"
   },
   "source": [
    "**Eventização**\n",
    "\n",
    "O código abaixo deve ser retrabalhado para que todas as entradas onde há 'Character' igual a 'EVENT' sejam stripadas de 'Read ' e ' here.'"
   ]
  },
  {
   "cell_type": "code",
   "execution_count": 359,
   "metadata": {
    "colab": {
     "base_uri": "https://localhost:8080/"
    },
    "id": "cVH3sYhUaOKx",
    "outputId": "8019944b-2ce6-4039-d268-ea1757512b0c"
   },
   "outputs": [
    {
     "name": "stdout",
     "output_type": "stream",
     "text": [
      "0       False\n",
      "1       False\n",
      "2       False\n",
      "3       False\n",
      "4       False\n",
      "        ...  \n",
      "2703    False\n",
      "2704    False\n",
      "2705    False\n",
      "2706    False\n",
      "2707    False\n",
      "Name: Character, Length: 2708, dtype: bool\n"
     ]
    }
   ],
   "source": [
    "def clean_event(x):\n",
    "  return x.replace('Read ', '').replace(' here.', '')\n",
    "\n",
    "events_true = df_main['Character'] == \"EVENT\"\n",
    "print(events_true)\n",
    "\n",
    "df_main['event_names_clean'] = df_main.loc[events_true, 'Comic Name'].apply(clean_event)"
   ]
  },
  {
   "cell_type": "code",
   "execution_count": 360,
   "metadata": {
    "colab": {
     "base_uri": "https://localhost:8080/",
     "height": 458
    },
    "id": "LqKSUA6XJg8c",
    "outputId": "d2aef443-6d20-4d1e-e594-95ab800b51a1"
   },
   "outputs": [
    {
     "data": {
      "text/plain": [
       "0       None\n",
       "1       None\n",
       "2       None\n",
       "3       None\n",
       "4       None\n",
       "        ... \n",
       "2703    None\n",
       "2704    None\n",
       "2705    None\n",
       "2706    None\n",
       "2707    None\n",
       "Name: Event, Length: 2708, dtype: object"
      ]
     },
     "execution_count": 360,
     "metadata": {},
     "output_type": "execute_result"
    }
   ],
   "source": [
    "df_main['Event'] = np.where(df_main['Character'] == \"EVENT\", df_main['event_names_clean'], \"None\")\n",
    "df_main = df_main.drop(\"event_names_clean\", axis=\"columns\")\n",
    "df_main['Event']"
   ]
  },
  {
   "cell_type": "code",
   "execution_count": 361,
   "metadata": {
    "colab": {
     "base_uri": "https://localhost:8080/",
     "height": 424
    },
    "id": "14iJJMtxLUgo",
    "outputId": "291bfc0d-ce4b-494e-edc6-892325613fcb"
   },
   "outputs": [
    {
     "data": {
      "text/html": [
       "<div>\n",
       "<style scoped>\n",
       "    .dataframe tbody tr th:only-of-type {\n",
       "        vertical-align: middle;\n",
       "    }\n",
       "\n",
       "    .dataframe tbody tr th {\n",
       "        vertical-align: top;\n",
       "    }\n",
       "\n",
       "    .dataframe thead th {\n",
       "        text-align: right;\n",
       "    }\n",
       "</style>\n",
       "<table border=\"1\" class=\"dataframe\">\n",
       "  <thead>\n",
       "    <tr style=\"text-align: right;\">\n",
       "      <th></th>\n",
       "      <th>Comic Name</th>\n",
       "      <th>Character</th>\n",
       "      <th>Event</th>\n",
       "    </tr>\n",
       "  </thead>\n",
       "  <tbody>\n",
       "    <tr>\n",
       "      <th>0</th>\n",
       "      <td>DC Universe: Rebirth #1 (2016)</td>\n",
       "      <td>DC UNIVERSE</td>\n",
       "      <td>None</td>\n",
       "    </tr>\n",
       "    <tr>\n",
       "      <th>1</th>\n",
       "      <td>The Flash: Rebirth Vol. 2 #1 (2016)</td>\n",
       "      <td>THE FLASH</td>\n",
       "      <td>None</td>\n",
       "    </tr>\n",
       "    <tr>\n",
       "      <th>2</th>\n",
       "      <td>Nightwing: Rebirth #1 (2016)</td>\n",
       "      <td>NIGHTWING</td>\n",
       "      <td>None</td>\n",
       "    </tr>\n",
       "    <tr>\n",
       "      <th>3</th>\n",
       "      <td>Titans: Rebirth #1 (2016)</td>\n",
       "      <td>TITANS</td>\n",
       "      <td>None</td>\n",
       "    </tr>\n",
       "    <tr>\n",
       "      <th>4</th>\n",
       "      <td>Titans Vol. 3 #1 (2016)</td>\n",
       "      <td>TITANS</td>\n",
       "      <td>None</td>\n",
       "    </tr>\n",
       "    <tr>\n",
       "      <th>...</th>\n",
       "      <td>...</td>\n",
       "      <td>...</td>\n",
       "      <td>...</td>\n",
       "    </tr>\n",
       "    <tr>\n",
       "      <th>2703</th>\n",
       "      <td>Future State: Superman: House of El #1 (2021)</td>\n",
       "      <td>FUTURE STATE</td>\n",
       "      <td>None</td>\n",
       "    </tr>\n",
       "    <tr>\n",
       "      <th>2704</th>\n",
       "      <td>Future State: Swamp Thing #1 (2021)</td>\n",
       "      <td>FUTURE STATE</td>\n",
       "      <td>None</td>\n",
       "    </tr>\n",
       "    <tr>\n",
       "      <th>2705</th>\n",
       "      <td>Future State: Swamp Thing #2</td>\n",
       "      <td>FUTURE STATE</td>\n",
       "      <td>None</td>\n",
       "    </tr>\n",
       "    <tr>\n",
       "      <th>2706</th>\n",
       "      <td>Future State: Immortal Wonder Woman #1 (2021)</td>\n",
       "      <td>FUTURE STATE</td>\n",
       "      <td>None</td>\n",
       "    </tr>\n",
       "    <tr>\n",
       "      <th>2707</th>\n",
       "      <td>Future State: Immortal Wonder Woman #2</td>\n",
       "      <td>FUTURE STATE</td>\n",
       "      <td>None</td>\n",
       "    </tr>\n",
       "  </tbody>\n",
       "</table>\n",
       "<p>2708 rows × 3 columns</p>\n",
       "</div>"
      ],
      "text/plain": [
       "                                         Comic Name     Character Event\n",
       "0                    DC Universe: Rebirth #1 (2016)   DC UNIVERSE  None\n",
       "1               The Flash: Rebirth Vol. 2 #1 (2016)     THE FLASH  None\n",
       "2                      Nightwing: Rebirth #1 (2016)     NIGHTWING  None\n",
       "3                         Titans: Rebirth #1 (2016)        TITANS  None\n",
       "4                           Titans Vol. 3 #1 (2016)        TITANS  None\n",
       "...                                             ...           ...   ...\n",
       "2703  Future State: Superman: House of El #1 (2021)  FUTURE STATE  None\n",
       "2704            Future State: Swamp Thing #1 (2021)  FUTURE STATE  None\n",
       "2705                   Future State: Swamp Thing #2  FUTURE STATE  None\n",
       "2706  Future State: Immortal Wonder Woman #1 (2021)  FUTURE STATE  None\n",
       "2707         Future State: Immortal Wonder Woman #2  FUTURE STATE  None\n",
       "\n",
       "[2708 rows x 3 columns]"
      ]
     },
     "execution_count": 361,
     "metadata": {},
     "output_type": "execute_result"
    }
   ],
   "source": [
    "df_main"
   ]
  },
  {
   "cell_type": "markdown",
   "metadata": {
    "id": "4mXcOPZKTqAv"
   },
   "source": [
    "Vamos ter de usar expressões regulares para poder modificar adequadamente as entradas na Série `events_list`, removendo espaços e pontuações para que nossa comparação com o nome dos arquivos seja adequada.\n",
    "\n",
    "Consta no código uma explicação sobre as expressões"
   ]
  },
  {
   "cell_type": "code",
   "execution_count": 362,
   "metadata": {
    "id": "FyJ4dOIPgO1V"
   },
   "outputs": [
    {
     "name": "stdout",
     "output_type": "stream",
     "text": [
      "Series([], Name: Event, dtype: object)\n",
      "Series([], Name: Event, dtype: object)\n"
     ]
    }
   ],
   "source": [
    "events_list_entry_names = events_list = df_main.loc[df_main['Event'] != 'None']['Event']\n",
    "print (events_list_entry_names)\n",
    "\n",
    "def reformat_name_event(event):\n",
    "    # Substituir qualquer caractere n alfanum (exceto _) ou espaço por um underscore\n",
    "    #    Regex: [^\\w\\s] -> qualquer coisa que NÃO seja (caractere alfanumérico OU espaço)\n",
    "    #    | -> OU\n",
    "    #    \\s+ -> um ou mais espaços\n",
    "    event = re.sub(r'[^\\w\\s]|\\s+', '_', event)\n",
    "\n",
    "    # Remover underscores duplicados que possam surgir (ex: \"Night__of___the\")\n",
    "    event = re.sub(r'__+', '_', event)\n",
    "\n",
    "    # Remover underscores no início ou fim da string\n",
    "    event = event.strip('_')\n",
    "\n",
    "    return event\n",
    "\n",
    "\n",
    "events_list_file_names = events_list.apply(reformat_name_event)\n",
    "print (events_list_file_names)"
   ]
  },
  {
   "cell_type": "markdown",
   "metadata": {
    "id": "2J_S4jWLtFrb"
   },
   "source": [
    "Temos que ler os nomes dos arquivos em DC_Events e\n",
    "\n",
    "**(A)** Conforme fazemos a leitura armazenamos na lista `df_events`, que depois é reordenada segundo `events_dict` ou similares\n",
    "\n",
    "ou\n",
    "\n",
    "**(B)** Fazemos a leitura já checando os elementos de `events_dict`, ordenando conforme lemos e armazenando em `dfs_events` já na ordem"
   ]
  },
  {
   "cell_type": "code",
   "execution_count": 363,
   "metadata": {
    "colab": {
     "base_uri": "https://localhost:8080/",
     "height": 790
    },
    "id": "8FJTQ97za5kM",
    "outputId": "2f91f711-8f8d-416f-ce16-ca13c747a4c1"
   },
   "outputs": [
    {
     "data": {
      "text/plain": [
       "[]"
      ]
     },
     "execution_count": 363,
     "metadata": {},
     "output_type": "execute_result"
    }
   ],
   "source": [
    "col_to_keep = \"Comic Name\"\n",
    "\n",
    "events_path = \"data/DC_Events/\"\n",
    "fileformat = \"*.csv\"\n",
    "event_names = []\n",
    "dfs_events = []\n",
    "\n",
    "path_events = gb.glob(f\"{events_path}/{fileformat}\")\n",
    "\n",
    "#for i in events_list.values:\n",
    "#  print(i)\n",
    "#print (\"File names\\n\")\n",
    "#for i in path_events:\n",
    "#  print(os.path.basename(i))\n",
    "\n",
    "#print (\"\\nEvent Column names\\n\")\n",
    "if (len(path_events) == len(events_list_file_names.values)):\n",
    "  for i in range(len(path_events)):\n",
    "    #print(events_path + events_list.values[i] + fileformat.strip(\"*\"))\n",
    "    try:\n",
    "        # remeber: the events are added according to the order they were read from in the original Comic_Order file\n",
    "        event_address = events_path + events_list_file_names.values[i] + fileformat.strip(\"*\")\n",
    "        df_toshorten = pd.read_csv(event_address)\n",
    "        dfs_events.append(df_toshorten[[col_to_keep]])\n",
    "    except:\n",
    "      print(\"The \" + events_list_file_names.values[i] + \" event has no corresponding file\")\n",
    "\n",
    "dfs_events"
   ]
  },
  {
   "cell_type": "markdown",
   "metadata": {},
   "source": [
    "### Getting dataframes from each additional file and adding a column with the proper event name"
   ]
  },
  {
   "cell_type": "code",
   "execution_count": 364,
   "metadata": {},
   "outputs": [
    {
     "data": {
      "text/plain": [
       "[]"
      ]
     },
     "execution_count": 364,
     "metadata": {},
     "output_type": "execute_result"
    }
   ],
   "source": [
    "def clean_event_name(comic_name, event):\n",
    "    if not(event in comic_name):\n",
    "       return clean_name(comic_name) \n",
    "        \n",
    "    replaced_name = clean_name(comic_name.replace(event, \"\"))\n",
    "    if len(replaced_name) != 0:\n",
    "        return replaced_name\n",
    "    else:\n",
    "        return event.upper()\n",
    "    \n",
    "for i in range(len(events_list_entry_names)):\n",
    "\n",
    "    dfs_events[i][\"Event\"] = events_list_entry_names.iloc[i]\n",
    "    \n",
    "    # Events require a special cleanup, considering many of them have the Event name in the Comic Book's title,\n",
    "    # which would make some noise when doing the regular cleanup\n",
    "\n",
    "    dfs_events[i]['Character'] = dfs_events[i].apply(lambda x: clean_event_name(x['Comic Name'], x['Event']), axis=1)\n",
    "\n",
    "#Checking one of the dfs for the appropriate column\n",
    "dfs_events"
   ]
  },
  {
   "cell_type": "markdown",
   "metadata": {},
   "source": [
    "Next step is to do the dataframe merging"
   ]
  },
  {
   "cell_type": "code",
   "execution_count": 365,
   "metadata": {},
   "outputs": [
    {
     "data": {
      "text/html": [
       "<div>\n",
       "<style scoped>\n",
       "    .dataframe tbody tr th:only-of-type {\n",
       "        vertical-align: middle;\n",
       "    }\n",
       "\n",
       "    .dataframe tbody tr th {\n",
       "        vertical-align: top;\n",
       "    }\n",
       "\n",
       "    .dataframe thead th {\n",
       "        text-align: right;\n",
       "    }\n",
       "</style>\n",
       "<table border=\"1\" class=\"dataframe\">\n",
       "  <thead>\n",
       "    <tr style=\"text-align: right;\">\n",
       "      <th></th>\n",
       "      <th>Comic Name</th>\n",
       "      <th>Character</th>\n",
       "      <th>Event</th>\n",
       "    </tr>\n",
       "  </thead>\n",
       "  <tbody>\n",
       "  </tbody>\n",
       "</table>\n",
       "</div>"
      ],
      "text/plain": [
       "Empty DataFrame\n",
       "Columns: [Comic Name, Character, Event]\n",
       "Index: []"
      ]
     },
     "execution_count": 365,
     "metadata": {},
     "output_type": "execute_result"
    }
   ],
   "source": [
    "df_main.loc[df_main['Event'] == \"Justice League vs. Suicide Squad\"]"
   ]
  },
  {
   "cell_type": "code",
   "execution_count": 366,
   "metadata": {},
   "outputs": [],
   "source": [
    "insertion_points = []\n",
    "#for i in dfs_events:\n",
    "    \n",
    "for i in df_main.loc[df_main['Event'] != 'None']['Comic Name']:\n",
    "    insertion_points.append(i)\n",
    "\n",
    "#print(insertion_points)\n",
    "\n",
    "for i in range(len(insertion_points)):\n",
    "    insertion_index = df_main[df_main['Comic Name'] == insertion_points[i]].index[0]\n",
    "\n",
    "    df_main_slice1 = df_main.iloc[:insertion_index]\n",
    "    df_main_slice2 = df_main.iloc[insertion_index + 1:]\n",
    "\n",
    "    df_main = pd.concat([df_main_slice1, dfs_events[i], df_main_slice2], ignore_index=True)"
   ]
  },
  {
   "cell_type": "code",
   "execution_count": 367,
   "metadata": {},
   "outputs": [
    {
     "data": {
      "text/html": [
       "<div>\n",
       "<style scoped>\n",
       "    .dataframe tbody tr th:only-of-type {\n",
       "        vertical-align: middle;\n",
       "    }\n",
       "\n",
       "    .dataframe tbody tr th {\n",
       "        vertical-align: top;\n",
       "    }\n",
       "\n",
       "    .dataframe thead th {\n",
       "        text-align: right;\n",
       "    }\n",
       "</style>\n",
       "<table border=\"1\" class=\"dataframe\">\n",
       "  <thead>\n",
       "    <tr style=\"text-align: right;\">\n",
       "      <th></th>\n",
       "      <th>Comic Name</th>\n",
       "      <th>Character</th>\n",
       "      <th>Event</th>\n",
       "    </tr>\n",
       "  </thead>\n",
       "  <tbody>\n",
       "    <tr>\n",
       "      <th>0</th>\n",
       "      <td>DC Universe: Rebirth #1 (2016)</td>\n",
       "      <td>DC UNIVERSE</td>\n",
       "      <td>None</td>\n",
       "    </tr>\n",
       "    <tr>\n",
       "      <th>1</th>\n",
       "      <td>The Flash: Rebirth Vol. 2 #1 (2016)</td>\n",
       "      <td>THE FLASH</td>\n",
       "      <td>None</td>\n",
       "    </tr>\n",
       "    <tr>\n",
       "      <th>2</th>\n",
       "      <td>Nightwing: Rebirth #1 (2016)</td>\n",
       "      <td>NIGHTWING</td>\n",
       "      <td>None</td>\n",
       "    </tr>\n",
       "    <tr>\n",
       "      <th>3</th>\n",
       "      <td>Titans: Rebirth #1 (2016)</td>\n",
       "      <td>TITANS</td>\n",
       "      <td>None</td>\n",
       "    </tr>\n",
       "    <tr>\n",
       "      <th>4</th>\n",
       "      <td>Titans Vol. 3 #1 (2016)</td>\n",
       "      <td>TITANS</td>\n",
       "      <td>None</td>\n",
       "    </tr>\n",
       "    <tr>\n",
       "      <th>...</th>\n",
       "      <td>...</td>\n",
       "      <td>...</td>\n",
       "      <td>...</td>\n",
       "    </tr>\n",
       "    <tr>\n",
       "      <th>2703</th>\n",
       "      <td>Future State: Superman: House of El #1 (2021)</td>\n",
       "      <td>FUTURE STATE</td>\n",
       "      <td>None</td>\n",
       "    </tr>\n",
       "    <tr>\n",
       "      <th>2704</th>\n",
       "      <td>Future State: Swamp Thing #1 (2021)</td>\n",
       "      <td>FUTURE STATE</td>\n",
       "      <td>None</td>\n",
       "    </tr>\n",
       "    <tr>\n",
       "      <th>2705</th>\n",
       "      <td>Future State: Swamp Thing #2</td>\n",
       "      <td>FUTURE STATE</td>\n",
       "      <td>None</td>\n",
       "    </tr>\n",
       "    <tr>\n",
       "      <th>2706</th>\n",
       "      <td>Future State: Immortal Wonder Woman #1 (2021)</td>\n",
       "      <td>FUTURE STATE</td>\n",
       "      <td>None</td>\n",
       "    </tr>\n",
       "    <tr>\n",
       "      <th>2707</th>\n",
       "      <td>Future State: Immortal Wonder Woman #2</td>\n",
       "      <td>FUTURE STATE</td>\n",
       "      <td>None</td>\n",
       "    </tr>\n",
       "  </tbody>\n",
       "</table>\n",
       "<p>2708 rows × 3 columns</p>\n",
       "</div>"
      ],
      "text/plain": [
       "                                         Comic Name     Character Event\n",
       "0                    DC Universe: Rebirth #1 (2016)   DC UNIVERSE  None\n",
       "1               The Flash: Rebirth Vol. 2 #1 (2016)     THE FLASH  None\n",
       "2                      Nightwing: Rebirth #1 (2016)     NIGHTWING  None\n",
       "3                         Titans: Rebirth #1 (2016)        TITANS  None\n",
       "4                           Titans Vol. 3 #1 (2016)        TITANS  None\n",
       "...                                             ...           ...   ...\n",
       "2703  Future State: Superman: House of El #1 (2021)  FUTURE STATE  None\n",
       "2704            Future State: Swamp Thing #1 (2021)  FUTURE STATE  None\n",
       "2705                   Future State: Swamp Thing #2  FUTURE STATE  None\n",
       "2706  Future State: Immortal Wonder Woman #1 (2021)  FUTURE STATE  None\n",
       "2707         Future State: Immortal Wonder Woman #2  FUTURE STATE  None\n",
       "\n",
       "[2708 rows x 3 columns]"
      ]
     },
     "execution_count": 367,
     "metadata": {},
     "output_type": "execute_result"
    }
   ],
   "source": [
    "df_main"
   ]
  },
  {
   "cell_type": "markdown",
   "metadata": {},
   "source": [
    "-----\n",
    "## Removal of character name redundancies (WIP)"
   ]
  },
  {
   "cell_type": "code",
   "execution_count": 368,
   "metadata": {},
   "outputs": [
    {
     "name": "stdout",
     "output_type": "stream",
     "text": [
      "THE JOKER\n",
      "THE JOKER 80TH ANNIVERSARY 100-PAGE SUPER SPECTACULAR\n"
     ]
    },
    {
     "data": {
      "text/html": [
       "<div>\n",
       "<style scoped>\n",
       "    .dataframe tbody tr th:only-of-type {\n",
       "        vertical-align: middle;\n",
       "    }\n",
       "\n",
       "    .dataframe tbody tr th {\n",
       "        vertical-align: top;\n",
       "    }\n",
       "\n",
       "    .dataframe thead th {\n",
       "        text-align: right;\n",
       "    }\n",
       "</style>\n",
       "<table border=\"1\" class=\"dataframe\">\n",
       "  <thead>\n",
       "    <tr style=\"text-align: right;\">\n",
       "      <th></th>\n",
       "      <th>Comic Name</th>\n",
       "      <th>Character</th>\n",
       "      <th>Event</th>\n",
       "    </tr>\n",
       "  </thead>\n",
       "  <tbody>\n",
       "    <tr>\n",
       "      <th>2027</th>\n",
       "      <td>The Joker: Year of the Villain #1 (2019)</td>\n",
       "      <td>THE JOKER</td>\n",
       "      <td>None</td>\n",
       "    </tr>\n",
       "  </tbody>\n",
       "</table>\n",
       "</div>"
      ],
      "text/plain": [
       "                                    Comic Name  Character Event\n",
       "2027  The Joker: Year of the Villain #1 (2019)  THE JOKER  None"
      ]
     },
     "execution_count": 368,
     "metadata": {},
     "output_type": "execute_result"
    }
   ],
   "source": [
    "all_heroes = df_main['Character']\n",
    "for i in all_heroes:\n",
    "    if \"JOKER\" in i:\n",
    "        print (i)\n",
    "\n",
    "# Joker special\n",
    "\n",
    "#for i in all_heroes:\n",
    "#    if \"JOKER\" in i:\n",
    "\n",
    "df_main.loc[df_main['Character'] == \"THE JOKER\"]"
   ]
  },
  {
   "cell_type": "code",
   "execution_count": 369,
   "metadata": {},
   "outputs": [
    {
     "name": "stdout",
     "output_type": "stream",
     "text": [
      "There are 151 characters\n"
     ]
    },
    {
     "data": {
      "text/plain": [
       "array(['DC UNIVERSE', 'THE FLASH', 'NIGHTWING', 'TITANS', 'SUPERMAN',\n",
       "       'ACTION COMICS', 'SUPERWOMAN', 'BATMAN', 'GREEN ARROW',\n",
       "       'SUICIDE SQUAD', 'HAL JORDAN & THE GREEN LANTERN CORPS',\n",
       "       'GREEN LANTERNS', 'HARLEY QUINN', 'AQUAMAN', 'BATGIRL',\n",
       "       'BATGIRL AND THE BIRDS OF PREY', 'DETECTIVE COMICS', 'TEEN TITANS',\n",
       "       'JUSTICE LEAGUE', 'TRINITY', 'CATWOMAN', 'CYBORG',\n",
       "       'GOTHAM ACADEMY', 'WONDER WOMAN', 'DC REBIRTH HOLIDAY',\n",
       "       'NEW SUPER-MAN', 'DEATHSTROKE', 'RAVEN', 'ALL-STAR BATMAN',\n",
       "       'RED HOOD AND THE OUTLAWS', 'JUSTICE LEAGUE VS. SUICIDE SQUAD',\n",
       "       'JUSTICE LEAGUE OF AMERICA', 'SUPER SONS', 'THE HELLBLAZER',\n",
       "       'SIXPACK AND DOGWELDER', 'DEADMAN', 'SUPERGIRL', 'MOTHER PANIC',\n",
       "       'BATWOMAN', 'BATMAN BEYOND', 'BLUE BEETLE',\n",
       "       'CAVE CARSON HAS A CYBERNETIC EYE', 'DEATH OF HAWKMAN',\n",
       "       'MIDNIGHTER AND APOLLO', 'SHADE THE CHANGING GIRL', 'BANE',\n",
       "       'DOOM PATROL', 'THE ODYSSEY OF THE AMAZONS',\n",
       "       'THE FALL AND RISE OF CAPTAIN ATOM',\n",
       "       'BUG! THE ADVENTURES OF FORAGER', 'SWAMP THING WINTER',\n",
       "       'DARK DAYS', 'DARK NIGHTS',\n",
       "       'HAL JORDAN AND THE GREEN LANTERN CORPS', 'BATMAN LOST',\n",
       "       'HAWKMAN FOUND', 'DARK KNIGHTS RISING', 'THE BATMAN WHO LAUGHS',\n",
       "       'MISTER MIRACLE', 'JLA/DOOM PATROL', 'MOTHER PANIC/BATMAN',\n",
       "       'SHADE THE CHANGING GIRL/WONDER WOMAN',\n",
       "       'CAVE CARSON HAS A CYBERNETIC EYE/SWAMP THING', 'DOOM PATROL/JLA',\n",
       "       'RAGMAN', 'DAMAGE', 'THE SILENCER', 'BLACK LIGHTNING',\n",
       "       'BATMAN AND THE SIGNAL', 'THE DEMON', 'THE TERRIFICS',\n",
       "       'NEW SUPER-MAN AND THE JUSTICE LEAGUE OF CHINA', 'DC NATION',\n",
       "       'THE CURSE OF BRIMSTONE', 'THE MAN OF STEEL',\n",
       "       'ADVENTURES OF THE SUPER SONS', 'CHALLENGE OF THE SUPERSONS',\n",
       "       'BATMAN AND WONDER WOMAN', 'SIDEWAYS', 'MERA',\n",
       "       'SHADE THE CHANGING WOMAN', 'PLASTIC MAN', 'ETERNITY GIRL',\n",
       "       'CAVE CARSON HAS AN INTERSTELLAR EYE', 'THE IMMORTAL MEN',\n",
       "       'NEW CHALLENGERS', 'HAWKMAN', 'MAN-BAT', 'JUSTICE LEAGUE DARK',\n",
       "       'WONDER WOMAN AND DARK JUSTICE LEAGUE',\n",
       "       'DARK JUSTICE LEAGUE AND WONDER WOMAN', 'THE UNEXPECTED',\n",
       "       'HEROES IN CRISIS', 'RED HOOD', 'JUSTICE LEAGUE/AQUAMAN',\n",
       "       'AQUAMAN/JUSTICE LEAGUE', 'THE GREEN LANTERN',\n",
       "       'JUSTICE LEAGUE ODYSSEY', 'ELECTRIC WARRIORS', 'NAOMI',\n",
       "       'YOUNG JUSTICE', 'FEMALE FURIES', 'YEAR OF THE VILLAIN',\n",
       "       'WONDER TWINS', 'DIAL H FOR HERO', 'BATMAN AND THE OUTSIDERS',\n",
       "       'SINESTRO', 'BLACK MASK', 'THE RIDDLER', 'LEX LUTHOR',\n",
       "       'LEGION OF SUPER-HEROES', 'LOIS LANE', 'EVENT LEVIATHAN',\n",
       "       \"NEW YEAR'S EVIL\", \"HARLEY QUINN'S VILLAIN OF THE YEAR\",\n",
       "       'THE JOKER', 'OCEAN MASTER', 'DOOMSDAY CLOCK', 'BATMAN/SUPERMAN',\n",
       "       'THE INFECTED', 'BLACK ADAM', 'SHAZAM!', 'COLLAPSER',\n",
       "       'FREEDOM FIGHTERS', 'GREEN LANTERN', 'MARTIAN MANHUNTER',\n",
       "       'INFERIOR FIVE', 'GOTHAM CITY MONSTERS',\n",
       "       'HARLEY QUINN & POISON IVY', 'THE GREEN LANTERN SEASON TWO',\n",
       "       'BATMAN KNIGHTFALL', 'TALES FROM THE DARK MULTIVERSE',\n",
       "       'FLASH FORWARD', 'LEVIATHAN DAWN', \"BATMAN VS. RA'S AL GHUL\",\n",
       "       'ROBIN 80TH ANNIVERSARY 100-PAGE SUPER SPECTACULAR', 'AMETHYST',\n",
       "       \"SUPERMAN'S PAL JIMMY OLSEN\",\n",
       "       'GREEN LANTERN 80TH ANNIVERSARY 100-PAGE SUPER SPECTACULAR',\n",
       "       'METAL MEN',\n",
       "       'CATWOMAN 80TH ANNIVERSARY 100-PAGE SUPER SPECTACULAR',\n",
       "       'HARLEY QUINN AND THE BIRDS OF PREY',\n",
       "       'THE JOKER 80TH ANNIVERSARY 100-PAGE SUPER SPECTACULAR',\n",
       "       'PUNCHLINE', 'SENSATIONAL WONDER WOMAN', 'JINNY HEX', 'FAR SECTOR',\n",
       "       'GENERATIONS SHATTERED', 'GENERATIONS FORGED', 'THE NEXT BATMAN',\n",
       "       'FUTURE STATE'], dtype=object)"
      ]
     },
     "execution_count": 369,
     "metadata": {},
     "output_type": "execute_result"
    }
   ],
   "source": [
    "print(\"There are \" + str(len(df_main['Character'].unique())) + \" characters\")\n",
    "unique_heroes = df_main['Character'].unique()\n",
    "unique_heroes"
   ]
  },
  {
   "cell_type": "markdown",
   "metadata": {},
   "source": [
    "### An evaluation of what constitutes a **\"collab title\"** is needed\n",
    "In order to do that, we look for some patterns within the `Character` column. The ones identified were the usage of \"AND\", \"VS.\" and \"/\" to signal the involvement of at least two characters. (This is not perfect, as we'll see an edge case bellow)"
   ]
  },
  {
   "cell_type": "code",
   "execution_count": 370,
   "metadata": {},
   "outputs": [
    {
     "name": "stdout",
     "output_type": "stream",
     "text": [
      "BATGIRL AND THE BIRDS OF PREY\n",
      "RED HOOD AND THE OUTLAWS\n",
      "JUSTICE LEAGUE VS. SUICIDE SQUAD\n",
      "SIXPACK AND DOGWELDER\n",
      "MIDNIGHTER AND APOLLO\n",
      "THE FALL AND RISE OF CAPTAIN ATOM\n",
      "HAL JORDAN AND THE GREEN LANTERN CORPS\n",
      "JLA/DOOM PATROL\n",
      "MOTHER PANIC/BATMAN\n",
      "SHADE THE CHANGING GIRL/WONDER WOMAN\n",
      "CAVE CARSON HAS A CYBERNETIC EYE/SWAMP THING\n",
      "DOOM PATROL/JLA\n",
      "BATMAN AND THE SIGNAL\n",
      "NEW SUPER-MAN AND THE JUSTICE LEAGUE OF CHINA\n",
      "BATMAN AND WONDER WOMAN\n",
      "WONDER WOMAN AND DARK JUSTICE LEAGUE\n",
      "DARK JUSTICE LEAGUE AND WONDER WOMAN\n",
      "JUSTICE LEAGUE/AQUAMAN\n",
      "AQUAMAN/JUSTICE LEAGUE\n",
      "BATMAN AND THE OUTSIDERS\n",
      "BATMAN/SUPERMAN\n",
      "BATMAN VS. RA'S AL GHUL\n",
      "HARLEY QUINN AND THE BIRDS OF PREY\n"
     ]
    }
   ],
   "source": [
    "for i in unique_heroes:\n",
    "    if \"AND\" in i or \"VS\" in i or \"/\" in i or \"\\\\\" in i:\n",
    "        print(i)\n",
    "\n",
    "#print(\"--------------------------------------\")\n",
    "#for i in unique_heroes:\n",
    "#    if \"OF\" in i:\n",
    "#        print(i)"
   ]
  },
  {
   "cell_type": "markdown",
   "metadata": {},
   "source": [
    "That looks good, except in a single instance: `THE FALL AND RISE OF CAPTAIN ATOM`. This title will have to be dealt with separately\n",
    "Other than that, we're good to use those parameters to create a Side Character column"
   ]
  },
  {
   "cell_type": "code",
   "execution_count": null,
   "metadata": {},
   "outputs": [],
   "source": []
  },
  {
   "cell_type": "code",
   "execution_count": null,
   "metadata": {},
   "outputs": [],
   "source": []
  },
  {
   "cell_type": "code",
   "execution_count": null,
   "metadata": {},
   "outputs": [],
   "source": []
  }
 ],
 "metadata": {
  "colab": {
   "authorship_tag": "ABX9TyMGcpVpNIOZ2iTaaGGPg0do",
   "include_colab_link": true,
   "provenance": []
  },
  "kernelspec": {
   "display_name": "Python [conda env:base] *",
   "language": "python",
   "name": "conda-base-py"
  },
  "language_info": {
   "codemirror_mode": {
    "name": "ipython",
    "version": 3
   },
   "file_extension": ".py",
   "mimetype": "text/x-python",
   "name": "python",
   "nbconvert_exporter": "python",
   "pygments_lexer": "ipython3",
   "version": "3.11.7"
  }
 },
 "nbformat": 4,
 "nbformat_minor": 4
}
